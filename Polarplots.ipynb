{
 "cells": [
  {
   "cell_type": "markdown",
   "metadata": {},
   "source": [
    "# Auswertung: Polardiagramme und Drift im Vergleich"
   ]
  },
  {
   "cell_type": "markdown",
   "metadata": {},
   "source": [
    "## Vorbereitung"
   ]
  },
  {
   "cell_type": "markdown",
   "metadata": {},
   "source": [
    "Hier importieren wir einige Programpakete (z.B. zum Darstellen der Daten), setzen die Pfade, wo die Dateien zu finden sind und laden\n",
    "die Daten von 2006, 2008, 2011 und 2012. Beim Einlesen wird bereits automatisch der Korrkturfaktor für die Geschwindigkeit des Log (BSP), den wir zuvor von Hand bestimmt haben, angewandt."
   ]
  },
  {
   "cell_type": "code",
   "execution_count": 1,
   "metadata": {},
   "outputs": [
    {
     "ename": "ImportError",
     "evalue": "cannot import name my_polar",
     "output_type": "error",
     "traceback": [
      "\u001b[0;31m---------------------------------------------------------------------------\u001b[0m",
      "\u001b[0;31mImportError\u001b[0m                               Traceback (most recent call last)",
      "\u001b[0;32m<ipython-input-1-dca42e1d759c>\u001b[0m in \u001b[0;36m<module>\u001b[0;34m()\u001b[0m\n\u001b[1;32m     11\u001b[0m \u001b[0;32mimport\u001b[0m \u001b[0mNX2\u001b[0m\u001b[0;34m\u001b[0m\u001b[0m\n\u001b[1;32m     12\u001b[0m \u001b[0;32mimport\u001b[0m \u001b[0mNX2\u001b[0m\u001b[0;34m.\u001b[0m\u001b[0mpolar\u001b[0m\u001b[0;34m\u001b[0m\u001b[0m\n\u001b[0;32m---> 13\u001b[0;31m \u001b[0;32mfrom\u001b[0m \u001b[0mNX2\u001b[0m\u001b[0;34m.\u001b[0m\u001b[0mpolar\u001b[0m \u001b[0;32mimport\u001b[0m \u001b[0mmy_polar\u001b[0m\u001b[0;34m\u001b[0m\u001b[0m\n\u001b[0m\u001b[1;32m     14\u001b[0m \u001b[0;32mimport\u001b[0m \u001b[0mNX2\u001b[0m\u001b[0;34m.\u001b[0m\u001b[0mmath\u001b[0m\u001b[0;34m\u001b[0m\u001b[0m\n\u001b[1;32m     15\u001b[0m \u001b[0msys\u001b[0m\u001b[0;34m.\u001b[0m\u001b[0mpath\u001b[0m\u001b[0;34m.\u001b[0m\u001b[0mappend\u001b[0m\u001b[0;34m(\u001b[0m\u001b[0mos\u001b[0m\u001b[0;34m.\u001b[0m\u001b[0mpath\u001b[0m\u001b[0;34m.\u001b[0m\u001b[0mabspath\u001b[0m\u001b[0;34m(\u001b[0m\u001b[0;34m'.'\u001b[0m\u001b[0;34m)\u001b[0m\u001b[0;34m)\u001b[0m\u001b[0;34m\u001b[0m\u001b[0m\n",
      "\u001b[0;31mImportError\u001b[0m: cannot import name my_polar"
     ]
    }
   ],
   "source": [
    "import os\n",
    "import sys\n",
    "\n",
    "import numpy as np\n",
    "import itertools\n",
    "import matplotlib.pyplot as plt\n",
    "import matplotlib\n",
    "%matplotlib inline\n",
    "# on my computer NX2 is not installed, I just import directly from the development directory\n",
    "sys.path.append(os.path.abspath('../NX2'))\n",
    "import NX2\n",
    "import NX2.polar\n",
    "from NX2.polar import my_polar\n",
    "import NX2.math\n",
    "sys.path.append(os.path.abspath('.'))\n",
    "import utils\n",
    "\n",
    "datapath = '/home/moritz/Dropbox/NX2/'\n",
    "datapath = '/melkor/d1/guenther/Dropbox/NX2/'\n",
    "plotpath = os.path.join(datapath, '2013/')\n",
    "ENTWURF = False"
   ]
  },
  {
   "cell_type": "code",
   "execution_count": null,
   "metadata": {},
   "outputs": [],
   "source": [
    "d06 = utils.read_06(datapath)\n",
    "d08 = utils.read_08(datapath)\n",
    "d11 = utils.read_11(datapath)\n",
    "d12 = utils.read_12(datapath)\n",
    "d1112 = utils.read_11(datapath)\n",
    "d1112.append(d12)"
   ]
  },
  {
   "cell_type": "markdown",
   "metadata": {},
   "source": [
    "### Kontolle der BSP / SOG Korrektur"
   ]
  },
  {
   "cell_type": "code",
   "execution_count": null,
   "metadata": {},
   "outputs": [],
   "source": [
    "fit06 = d06.fit_BSP_corr()\n",
    "fit06[0].pprint()"
   ]
  },
  {
   "cell_type": "code",
   "execution_count": null,
   "metadata": {},
   "outputs": [],
   "source": [
    "fit08 = d08.fit_BSP_corr()\n",
    "fit08[0].pprint()"
   ]
  },
  {
   "cell_type": "code",
   "execution_count": null,
   "metadata": {},
   "outputs": [],
   "source": [
    "fit11 = d11.fit_BSP_corr()\n",
    "fit11[0].pprint()"
   ]
  },
  {
   "cell_type": "code",
   "execution_count": null,
   "metadata": {},
   "outputs": [],
   "source": [
    "fit12 = d12.fit_BSP_corr()\n",
    "fit12[0].pprint()"
   ]
  },
  {
   "cell_type": "code",
   "execution_count": null,
   "metadata": {},
   "outputs": [],
   "source": [
    "fig = plt.figure(figsize = (20,4))\n",
    "for i, dat, fit, year in zip((1,2,3,4), (d06, d08, d11, d12), (fit06, fit08, fit11, fit12), (2006, 2008, 2011, 2012)):\n",
    "    ax = fig.add_subplot(1,4,i)\n",
    "    ax.plot(dat.SOG[~fit[1]], dat.BSP[~fit[1]],'y.', label = 'ignorierte Daten')\n",
    "    ax.plot(dat.SOG[fit[1]], dat.BSP[fit[1]],'k.', label = 'Datenpunkte')\n",
    "    xlim = ax.get_xlim()\n",
    "    ax.plot(xlim, fit[0].beta * xlim, label = 'Fit')\n",
    "    ax.plot(xlim, 1. * np.array(xlim), 'r', label = '1.0')\n",
    "    ax.set_xlabel('SOG - Geschwindigkeit vom GPS')\n",
    "    ax.set_ylabel('BSP - Geschwindigkeit vom Log')\n",
    "    ax.legend(loc = 'upper left')\n",
    "    ax.set_title('Daten von {0}'.format(year))\n",
    "plt.show()"
   ]
  },
  {
   "cell_type": "markdown",
   "metadata": {},
   "source": [
    "Hier vergleichen wir die SOG mit der BSP.\n",
    "In dieser Grafik sieht man alle Datenpunkte, die wir für je ein Jahr geladen haben (wir berücksichtigen hier nur die letzten beiden Tage der Messfahrten in 2006, weil wir nur an diesen beiden Tagen gesegelt sind). Die gelbe Wolke zeigt alle Daten, die schwarzen Punkte nur die Daten, die zur Kalibration des Log geeignet sind. Dafür verlangen wir, dass\n",
    "\n",
    "- die Richtung der Bewegnung über Grund (vom GPS) und die Richtung, in die der Bug zeigt, übereinstimmen, weil es in dieser Position die Drift keine Rolle spielt.\n",
    "- die Geschwindigkeit > 0.4 kn ist, weil bei Geschwindigkeiten unter dieser Schwelle das Log noch nicht arbeitet.\n",
    "- die Geschwindigkeit des Schiff sich in diesem Zeitraum nur wenig geändert hat (Aus technischen Gründen hinkt die SOG der BSP immer etwas hinterher. Messungen, die z.B. beim Aufstoppen aufgenommen wurden, sind daher fur die Logkalibration nicht geeignet).\n",
    "\n",
    "Die blaue Linie zeigt einen Fit durch die schwarzen Punkte. Wenn sie mit der roten Linie übereinstimmt, dann ist keine weitere Korrktur nötig."
   ]
  },
  {
   "cell_type": "markdown",
   "metadata": {},
   "source": [
    "Wenn man die Grafiken für die Daten aus jedem einzelnen Jahr anschaut, dann sieht man, dass die Korrekturfaktoren für die BSP (\"boat speed\" - Geschwindigkeit mit dem Log gemessen) offensichtlich gut gewählt sind und wir ab jetzt die BSP für alle Winkel verwenden konnen, um Polardiagramme zu erzeugen."
   ]
  },
  {
   "cell_type": "markdown",
   "metadata": {},
   "source": [
    "## Polardiagramme"
   ]
  },
  {
   "cell_type": "markdown",
   "metadata": {},
   "source": [
    "### Filtern der Daten"
   ]
  },
  {
   "cell_type": "markdown",
   "metadata": {},
   "source": [
    "Bevor wir die Daten zu Polardiagrammen zusammenstellen, müssen wir sie filtern, denn nicht jeder Datenpunkt kann dafür genutzt werden. In diesem Abschnitt untersuchen wir, welche Filter sinnvoll sind. Die verschiedenen Filter, die wir auf die Daten anwenden, sollen verschiedene Effekte berücksichtigen: Zuerst beschränken wir uns auf die Messpunkte, die beim Segeln aufgenommen wurden (ohne Hilfe der Ruderer). Dann verlangen wir, dass die Geschwindikgeit sich nur langsam ändert, denn wenn z.B. der Bug in den Wind gedreht wird, dann hat das Schiff zunächst noch eine Geschwindigkeit, die aber schnell abnimmt. Das bedeutet nicht, das wir gegen den Wind segeln können, sondern nur dass die Daten, die direkt nach einer Richtungsänderung, direkt nach dem Hissen des Segels oder in einer Windböhe aufgenommen wurden, herausgefiltert werden müssen. Außerdem ändert sich der Wind sehr viel schneller, als das Schiff seine Geschwindigkeit anpassen kann. Deshalb glätten wir die Windgeschwindigkeit etwas, um diesen Effekt auszugleichen. Dafür wählen wir eine Funktion, die nur vorausgegangene, aber nicht zukünftige Messwerte verwendet; deshalb erscheinen die Maxima im geglätteten Wind immer etwas später. Die nächste Grafik zeigt ein Beispiel dafür."
   ]
  },
  {
   "cell_type": "code",
   "execution_count": null,
   "metadata": {},
   "outputs": [],
   "source": [
    "fig = plt.figure(figsize=(4,3))\n",
    "ax = fig.add_subplot(111)\n",
    "ax.plot(d11['TWS'][3600:3800], label = 'gemessener Wind')\n",
    "ax.plot(NX2.math.smooth_expdec(d11['TWS'], 10)[3600:3800], label = u'gegl\\u00e4tteter Wind')\n",
    "ax.set_xlabel('Zeit [Sekunden]')\n",
    "ax.set_ylabel('Windgeschwindigkeit [Knoten]')\n",
    "ax.legend()\n",
    "ax.set_ylim([0,10.9])\n",
    "fig.subplots_adjust(top=0.95, right=0.95, bottom=0.16)\n",
    "if ENTWURF: fig.text(.5,.5, 'ENTWURF', rotation=45,ha='center', va='center', fontsize=35, alpha=.5, color='grey')\n",
    "fig.savefig(os.path.join(plotpath, 'windglatt.pdf'))"
   ]
  },
  {
   "cell_type": "markdown",
   "metadata": {},
   "source": [
    "In der nachsten Grafik schauen wir uns den Winkel zum Wind an. Dabei bedeutet $0^{\\circ}$, das die Galeere \"im Wind\" steht (der Bug in den Wind zeigt), während $180^{\\circ}$ meint, das der Wind von achtern kommt und die Galeere \"vor dem Wind\" segelt. Das Vorzeichen kann dabei positiv oder negativ sein, je nachdem ob der Wind von Steuerbord oder von Backbord kommt. \n",
    "Durch diese Skala kann es bei achterlichem Wind zu scheinbaren Spüngen kommen (z. B. um Sekunde 15 herum in der folgenden Grafik), wenn der Wind von $+179^{\\circ}$ zu $-179^{\\circ}$ wechselt. Da wir in der folgenden Analyse nicht zwischen Backbord und Steuerbord unterscheiden, genügt es, den Betrag des Windwinkels zu betrachten und so das Problem zu vermeiden. Außerdem sieht man in der Grafik, dass die gemessene Windrichtung sehr schnell hin- und herspringt, weil der Windmesser im Wind flattert. Dies ist besonders bei schwachen Wind der Fall und bei Wind vom Bug, wenn das Segel den Windmesser abdeckt. Der Windmesser ist zwar mit einem \"twin fin\" System ausgestattet, dass ein Hin-und Herflattern vermeiden soll, aber die gemessene Windrichtung schwankt immer noch im Sekundenbereich. Wenn wir dies nicht berücksichtigen, dann werden bei der Konstruktion eines Polardiagrams viele Messwerte bei unpassenden Windwinkeln einsortiert. \n",
    "Deshalb glätten wir auch die Windrichtung (z. B. schwankt der Windwinkel in der folgenden Grafik kurz vor Sekunde 150 von fast 0 auf 150, während sich die Geschwindigkeit in dieser kurzen Zeit kaum verändert.)."
   ]
  },
  {
   "cell_type": "code",
   "execution_count": null,
   "metadata": {},
   "outputs": [],
   "source": [
    "fig = plt.figure(figsize=(4,4))\n",
    "ax = fig.add_subplot(111)\n",
    "ax.plot(d11['TWA'][3600:3800], label = 'Windwinkel')\n",
    "ax.plot(np.abs(d11['TWA'][3600:3800]), label = \"Betrag des Winkels\")\n",
    "ax.plot(NX2.math.smooth_expdec(np.abs(d11['TWA'][3600:3800]), 10), label = u\"Winkel geglättet\")\n",
    "ax.set_xlabel('Zeit [Sekunden]')\n",
    "ax.set_ylabel('Winkel zum Wind [Grad]')\n",
    "ax.legend(loc = 'lower left')\n",
    "\n",
    "fig.subplots_adjust(top=0.95, right=0.95,left=.2)\n",
    "if ENTWURF: fig.text(.5,.5, 'ENTWURF', rotation=45,ha='center', va='center', fontsize=35, alpha=.5, color='grey')\n",
    "fig.savefig(os.path.join(plotpath, 'windwinkelglatt.pdf'), transparent=True)"
   ]
  },
  {
   "cell_type": "markdown",
   "metadata": {},
   "source": [
    "Um sinnvolle Parameter zum Filtern zu finden und zu zeigen, wie sich die einzelnen Filter auswirken, verwende ich im Folgenden den Datensatz von 2011 als Beispiel."
   ]
  },
  {
   "cell_type": "code",
   "execution_count": null,
   "metadata": {},
   "outputs": [],
   "source": [
    "sail  = NX2.polar.sail(d11)\n",
    "con = NX2.polar.near_const(NX2.math.smooth_gauss(d11['BSP'],10), max_diff = 0.007)\n",
    "TWSs = NX2.math.smooth_expdec(d11['TWS'], 10)\n",
    "TWAs = NX2.math.smooth_expdec(np.abs(d11['TWA']), 10)\n",
    "conTWA = NX2.polar.near_const(TWAs, max_diff = 1.5)"
   ]
  },
  {
   "cell_type": "markdown",
   "metadata": {},
   "source": [
    "Hier schauen wir mal, wie viele Punkte eigentlich noch übrig bleiben, wenn die oben definierten Filter angewendet werden."
   ]
  },
  {
   "cell_type": "code",
   "execution_count": null,
   "metadata": {},
   "outputs": [],
   "source": [
    "print 'Anzahl Datenpunkte mit Segel und ohne Ruder', sail.sum()\n",
    "print u'zusätzliche Bedingung: Fast konstante Geschwindigkeit', (sail & con).sum()\n",
    "print u'zusätzliche Bedingung: Fast konstanter Windwinkel', (sail & con & conTWA).sum()"
   ]
  },
  {
   "cell_type": "markdown",
   "metadata": {},
   "source": [
    "Alle Punkte mit Segel und ohne Rudern:"
   ]
  },
  {
   "cell_type": "code",
   "execution_count": null,
   "metadata": {},
   "outputs": [],
   "source": [
    "fig = plt.figure(figsize = (10,5))\n",
    "NX2.polar.grid(d11.TWA[sail], d11.TWS[sail], d11.BSP[sail], np.arange(0.,16.1,4.), np.arange(0.,181., 30.1), fig = fig)"
   ]
  },
  {
   "cell_type": "markdown",
   "metadata": {},
   "source": [
    "Man sieht schon, dass (außer in der letzten Zeile, wo wir einfach sehr wenige Daten haben) die meisten Verteilungen sehr gut um einen Mittelwert herum liegen. Allerdings sind manche Verteilungen noch so breit, dass man sich fragt, ob wir da vielleicht noch etwas mehr weglassen müssen. In der nächsten Grafik verweden wir nun die geglätteten Werte für Windgeschwindikeit und -winkel. Außerdem filtern wir die Zeiten heraus, bei denen sich die Bootsgeschwindigkeit oder der Windwinkel schnell ändern. Dabei ist es schwer, genau zu definieren, an welcher Stelle man hier abschneiden soll. Ich habe die Werte so gewählt, das nur die wirklich extremen Werte (wenn zum Beispiel eine enge Kurve gesegelt wird) herausgenommen werden. "
   ]
  },
  {
   "cell_type": "code",
   "execution_count": null,
   "metadata": {},
   "outputs": [],
   "source": [
    "fig = plt.figure(figsize = (10,5))\n",
    "ind = sail & con & conTWA\n",
    "NX2.polar.grid(TWAs[ind], TWSs[ind], d11.BSP[ind], np.arange(0.,16.1,4.), np.arange(0.,181., 30.1), fig = fig)"
   ]
  },
  {
   "cell_type": "markdown",
   "metadata": {},
   "source": [
    "Die Grafik sieht im wesentlichen noch so ähnlich aus wie darüber. Einige der Verteilungen sind etwas schmaler geworden, aber laut dieser Grafik segeln wir immer noch kräftig gegen den Wind. Das haben wir so aber nie direkt beobachtet. Offensichtlich sind die Filter also noch nicht richtig eingestellt. Deshalb schauen wir jetzt mal ein paar der fraglichen Phasen an, um zu verstehen, was da passiert ist."
   ]
  },
  {
   "cell_type": "code",
   "execution_count": null,
   "metadata": {},
   "outputs": [],
   "source": [
    "indcat = np.zeros(len(d11), dtype = np.bool)\n",
    "indcat[67500:68500] = True\n",
    "dat = d11.where(indcat)  #extract data of the time interval in question\n",
    "ax = dat.plot_speeds()"
   ]
  },
  {
   "cell_type": "code",
   "execution_count": null,
   "metadata": {},
   "outputs": [],
   "source": [
    "print dat.year[0], dat.month[0], dat.day[0]"
   ]
  },
  {
   "cell_type": "code",
   "execution_count": null,
   "metadata": {},
   "outputs": [],
   "source": [
    "fig = plt.figure(figsize = (10,4))\n",
    "ax = fig.add_subplot(111)\n",
    "#tax = ax.twinx()\n",
    "#tax.plot(dat.datetime(), dat.TWA, 'g', label = 'TWA')\n",
    "ax.plot(dat.datetime(), dat['HDC'], 'k', label = 'Kompasskurs')\n",
    "ax.plot(dat.datetime(), dat['COG'], 'b', label = u'Kurs über Grund')\n",
    "ax.plot(dat.datetime(), np.abs(np.mod(np.sign(dat['TWA']) *(dat['HDC'] -dat['COG']), 180.)), 'r', label='Drift Winkel')\n",
    "ax.legend()\n",
    "ax.xaxis.set_major_formatter(matplotlib.dates.DateFormatter('%H:%M', tz=None))\n",
    "ax.set_xlabel(\"Uhrzeit\")\n",
    "ax.set_ylabel(\"Winkel\")"
   ]
  },
  {
   "cell_type": "markdown",
   "metadata": {},
   "source": [
    "In diesem Beispiel sind die fraglichen Werte im ersten Drittel und im zweiten Drittel der Grafik zu finden, ca 17:00-17:03 und 17:06-17:10. Auf dem obersten Plot sieht man da nichts Ungewöhnliches, wenn man sich die mit dem Log und die mit dem GPS gemessene Geschwindigkeit anschaut. Auf der nächsten Grafik (direkt über diesem Text) zeigen wir den Kurs über Grund (vom GPS) und den Kompasskurs, sowie die Drift (die Differenz dieser beiden Werte). Zur fraglichen Zeit ist das Schiff deutlich abgedriftet mit einem Driftwinkel um $30^{\\circ}$. Zur Kontrolle sind auf der nachsten Grafik die Kurse zum fraglichen Zeitpunkt dargestellt. Dort sieht man deutlich, dass die nominelle Fahrt im Wasser (die Richtung, in die der Bug des Schiffes zeigt - schwarze Pfeile) und die wahre Bewegungsrichtung des Schiffs, die das GPS aufzeichnet (blaue Pfeile) sich unterscheiden. Der nominelle Kurs ist am Wind, aber unter Berücksichtigung der Drift erreichen wir in Wirklichkeit nur \"halben Wind\" (rechter Winkel zwischen grünen und blauen Pfeilen). "
   ]
  },
  {
   "cell_type": "code",
   "execution_count": null,
   "metadata": {},
   "outputs": [],
   "source": [
    "\n",
    "n = 60\n",
    "scale=25\n",
    "fig=plt.figure(figsize=(4,4))\n",
    "ax = fig.add_subplot(111)\n",
    "ax.plot(dat.x, dat.y, 'k')\n",
    "# overplot path with saling in blue\n",
    "if 'sailing' in dat.keys():\n",
    "    # make groups of indices with the sail up\n",
    "    for sail, ind in itertools.groupby(range(len(dat)), key=lambda a: dat.sailing[a]):\n",
    "        if sail == 1:\n",
    "            index = list(ind)\n",
    "            ax.plot(dat.x[index], dat.y[index], 'b')\n",
    "wind_v = dat.TWS\n",
    "wind_ang = dat.TWA + dat.HDC + 180.\n",
    "quiver_wind = ax.quiver(dat.x[::n], dat.y[::n], dat.TWS[::n]*np.sin(wind_ang[::n]/180.*np.pi), dat.TWS[::n]*np.cos(wind_ang[::n]/180.*np.pi), scale=scale, color='g')\n",
    "quiver_bsp = ax.quiver(dat.x[::n], dat.y[::n], dat.BSP[::n]*np.sin(dat.HDC[::n]/180.*np.pi), dat.BSP[::n]*np.cos(dat.HDC[::n]/180.*np.pi), scale=scale)\n",
    "quiver_sog = ax.quiver(dat.x[::n], dat.y[::n], dat.SOG[::n]*np.sin(dat.COG[::n]/180.*np.pi), dat.SOG[::n]*np.cos(dat.COG[::n]/180.*np.pi), scale=scale, color='b')\n",
    "\n",
    "qk_scale = scale/20.\n",
    "qk_wind = ax.quiverkey(quiver_wind, .1, 0.95, qk_scale, 'Wind', labelpos='E')\n",
    "qk_bsp = ax.quiverkey(quiver_bsp, .1, 0.9, qk_scale, 'Fahrt im Wasser', labelpos='E')\n",
    "qk_sog = ax.quiverkey(quiver_sog, .1, 0.85, qk_scale, u'Fahrt über Grund', labelpos='E')\n",
    "ax.set_xlabel('West - Ost [Meter]')\n",
    "ax.set_ylabel(u'Süd - Nord [Meter]')\n",
    "\n",
    "fig.axes[0].set_aspect(\"equal\")\n",
    "if ENTWURF: fig.text(.5,.5, 'ENTWURF', rotation=45,ha='center', va='center', fontsize=35, alpha=.5, color='grey')\n",
    "\n",
    "fig.savefig(os.path.join(plotpath, 'plotcoursehochamwind.pdf'), transparent=True)"
   ]
  },
  {
   "cell_type": "markdown",
   "metadata": {},
   "source": [
    "Möglicherweise hat der Steuermann hier den Kurs nicht optimal eingestellt und ein Teil der Drift könnte verhindert werden, wenn der Bug des Schiffs nicht in den Wind gestellt wird. Wenn der Bug in den Wind zeigt, dann wird die Drift größer (siehe nächste Grafik, mehr Details unten im Kapitel Drift) ohne dass das Schiff tatsächlich in den Wind navigieren könnte.  Im Folgenden werden wir die wahre Bewegungsrichtung im Wasser betrachten, nicht die Richtung, in die der Bug zeigt. Moderne Schiffe haben normalerweise einen Kiel und die Abdrift ist klein. Auch werden sie bei solchen Tests in der Regel \"ideal\" gesegelt, also so, dass die größtmögliche Geschwindigkeit erreicht wird. In den Versuchen zu römischen Kriegsschiffen ist das nicht gegeben, weil wir vom ersten Fahrtag an Messwerte aufgezeichnet haben und die verschiedenen Schiffsführer zunächst nicht mit den Besonderheiten dieser Schiffe vertraut waren (da fast 2000 Jahre vergangen sind, seit die Römer diese Schiffe gesegelt haben)."
   ]
  },
  {
   "cell_type": "code",
   "execution_count": null,
   "metadata": {},
   "outputs": [],
   "source": [
    "fig = plt.figure(figsize = (10,5))\n",
    "ind = sail & con & conTWA\n",
    "TWAsdrift = np.abs(TWAs)+np.abs(NX2.math.bearingdiff180(d11.HDC, d11.COG))\n",
    "NX2.polar.grid(TWAsdrift[ind], TWSs[ind], d11.BSP[ind], np.arange(0.,16.1,4.), np.arange(0.,181., 30.1), fig = fig)"
   ]
  },
  {
   "cell_type": "markdown",
   "metadata": {},
   "source": [
    "**OK, es sind immer noch einige Punkte übrig, dei bei kleinen Winkeln und positiven Geschwindikeiten liegen, aber nicht mehr viele.** Das mache ich iterativ so lange, bis alles, das ich nicht glaube, weggefiltert ist. Dabei habe ich folgende Punkte erkannt und gelöst:\n",
    "\n",
    "  - Am Anfang habe ich nur für das Segeln die ersten und letzten ca. 1.5 min ignoriert, weil in dieser Zeit ja das Segel erst mal gesetzt und ausgerichtet werden muss (bzw. quer gestellt und eingeholt). Ich habe ausserdem festgestellt, dass viele der fraglischen Bereiche direkt vor oder hinter einem Ruderabschnitt liegen. Hier können wir nicht auschließen, das da vielleicht schon ein \"Halt Wasser\" gegeben wurde oder die Ruderer ihrer Rimen ins Wasser getaucht haben, um sie besser in die Dollen einhängen zu können. Dashalb filtern wir nun auch Bereiche kurz vor oder nach dem Rudern (ca 1.5 min) heraus.\n",
    "  - Ich haben den Filter, der prüft, ob die Schifftgeschwindigkeit sich nicht schnell ändert verschärft. Ein guter Wert, um wirklich alle fraglichen Bereuche herauszufiltern, ist eine maximale Änderung von 0.005 pro Sekunde, aber bei einer solchen Bedingung werden auch viele brauchbare Werte verworfen. Als Kompromiss schlage ich jetzt 0.007 als Grenzwert vor.\n",
    "\n",
    "Wie man oben sieht, bleiben aber selbst im Bereich 30-60 Grad noch einige Punkte übrig. Ich gebe zu bedenken, dass diese alle zu sehr niedrigen BSP gehören, also verträglich mit der Beobachtung \"kein Vortrieb\" sind. Unten suche ich noch mal die fraglichen Bereiche heraus."
   ]
  },
  {
   "cell_type": "code",
   "execution_count": null,
   "metadata": {},
   "outputs": [],
   "source": [
    "print (ind & (TWAsdrift < 60) & (TWAsdrift > 30) & (d11.BSP >0.5)).nonzero()\n",
    "i = 67777 #make -270 be plotted as 90\n",
    "i = 98650 #\n",
    "i = 43100\n",
    "print d11[i]\n",
    "print d11.names \n",
    "print TWAs[i], TWAsdrift[i]"
   ]
  },
  {
   "cell_type": "markdown",
   "metadata": {},
   "source": [
    "Nun können wir iterativ uns anschauen, welche Datenpunkte nicht herausgefiltert sind, die eine signifikante Geschwindigkeit nach vorn zeigen."
   ]
  },
  {
   "cell_type": "code",
   "execution_count": null,
   "metadata": {},
   "outputs": [],
   "source": [
    "indcat = np.zeros(len(d11), dtype = np.bool)\n",
    "indcat[43000:43500] = True\n",
    "dat = d11.where(indcat)  #extract data of the time interval in question\n",
    "ax = dat.plot_speeds()"
   ]
  },
  {
   "cell_type": "code",
   "execution_count": null,
   "metadata": {},
   "outputs": [],
   "source": [
    "fig = dat.plot_course(n=30, scale = 20)"
   ]
  },
  {
   "cell_type": "code",
   "execution_count": null,
   "metadata": {},
   "outputs": [],
   "source": [
    "fig = plt.figure(figsize = (10,4))\n",
    "ax = fig.add_subplot(111)\n",
    "#tax = ax.twinx()\n",
    "#tax.plot(dat.datetime(), dat.TWA, 'g', label = 'TWA')\n",
    "ax.plot(dat.datetime(), dat['HDC'], 'k', label = 'Kompasskurs')\n",
    "ax.plot(dat.datetime(), dat['COG'], 'b', label = u'Kurs über Grund')\n",
    "ax.plot(dat.datetime(), np.abs(np.mod(np.sign(dat['TWA']) *(dat['HDC'] -dat['COG']), 180.)), 'r', label='Drift Winkel')\n",
    "ax.legend()\n",
    "ax.xaxis.set_major_formatter(matplotlib.dates.DateFormatter('%H:%M', tz=None))\n",
    "ax.set_xlabel(\"Uhrzeit\")\n",
    "ax.set_ylabel(\"Winkel\")"
   ]
  },
  {
   "cell_type": "markdown",
   "metadata": {},
   "source": [
    "Wenn ich mir das anschaue (der fragliche Punkt ist um 19:03:24 Uhr), dann ändert sich die Geschwindigkeit hier schnell, aber gerade zwischen 19:03 und 19:04 gibt es noch mal ein lokales Maximum, wo dann die lokare Änderung null ist. Meiner Meinung nach ist das ein pathologischer Fall und ich habe keine gute Idee, wie man solche Punkte auch noch erwischt, ohne zu viele brauchbare Punkte mit zu verwerfen."
   ]
  },
  {
   "cell_type": "markdown",
   "metadata": {},
   "source": [
    "### Vergleich der Jahre 2006, 2008, 2011 und 2012"
   ]
  },
  {
   "cell_type": "markdown",
   "metadata": {},
   "source": [
    "Hier zeige ich einen Überblick von Polardiagrammen. Fur jeden Datensatz erzeuge ich die gleichen Diagramme. Die Daten, die in diese Polardiagramme hineingehen, sind wie oben beschrieben gefiltert.\n",
    "\n",
    "1. Das linke Diagram benutzt in jedem Bin den Median, da der von den nicht gefilterten Ausreissern nicht so stark beeinflusst wird.\n",
    "2. Das mittelere Diagram bildet den Mittelwert.\n",
    "3. Das rechte Diagram zeigt den Logarithmus zur Basis 10 der Anzahl der Werte in jedem Bin."
   ]
  },
  {
   "cell_type": "code",
   "execution_count": null,
   "metadata": {},
   "outputs": [],
   "source": [
    "anglebins=np.arange(0, 181., 15.01)\n",
    "speedbins=np.arange(1.5,16,3.)\n",
    "\n",
    "polar06 = my_polar(d06, anglebins=anglebins, speedbins=speedbins)\n",
    "polar08 = my_polar(d08, anglebins=anglebins, speedbins=speedbins)\n",
    "polar11 = my_polar(d11, anglebins=anglebins, speedbins=speedbins)\n",
    "polar12 = my_polar(d12, anglebins=anglebins, speedbins=speedbins)"
   ]
  },
  {
   "cell_type": "code",
   "execution_count": null,
   "metadata": {},
   "outputs": [],
   "source": [
    "def polar3(data, drift=False, anglebins=np.arange(0, 181., 15.01), speedbins=np.arange(1.5,16,3.)):\n",
    "   \n",
    "    fig = plt.figure(figsize = (13,7))\n",
    "    maxr = 5 if not drift else 50\n",
    "    aux1, ax1 = NX2.polar.setup_plot(fig, 131, maxr=maxr)\n",
    "    aux2, ax2 = NX2.polar.setup_plot(fig, 132, maxr=maxr)\n",
    "    aux3, ax3 = NX2.polar.setup_plot(fig, 133)\n",
    "    colors = ['r','g','b','k','y','c','orange','r']\n",
    "    for aux, fct in zip([aux1, aux2, aux3], [np.median, np.mean, lambda x: np.log10(len(x))]): \n",
    "        poldat = my_polar(data, drift=drift, fct=fct, speedbins=speedbins, anglebins=anglebins)\n",
    "        temp = NX2.polar.plot(aux, poldat, speedbins, anglebins, color = colors)\n",
    "    ax1.set_title('Polardiagram - Median')\n",
    "    ax2.set_title('Polardiagram - Mean')\n",
    "    ax3.set_title ('Log10(Anzahl Datenpunkte per bin)')\n",
    "    ax3.axis[\"left\"].label.set_text(r\"log10(Anzahl Datenpunkte)\")\n",
    "    if drift:\n",
    "        for ax in [ax1,ax2]:\n",
    "            ax.axis[\"left\"].label.set_text(r\"Driftwinkel [$^{\\circ}$]\")"
   ]
  },
  {
   "cell_type": "code",
   "execution_count": null,
   "metadata": {},
   "outputs": [],
   "source": [
    "polar3(d06)"
   ]
  },
  {
   "cell_type": "code",
   "execution_count": null,
   "metadata": {},
   "outputs": [],
   "source": [
    "polar3(d08)"
   ]
  },
  {
   "cell_type": "code",
   "execution_count": null,
   "metadata": {},
   "outputs": [],
   "source": [
    "polar3(d11)"
   ]
  },
  {
   "cell_type": "code",
   "execution_count": null,
   "metadata": {},
   "outputs": [],
   "source": [
    "polar3(d12)"
   ]
  },
  {
   "cell_type": "markdown",
   "metadata": {},
   "source": [
    "Fur die Geschwindigkeiten unter 6 kn sehen die Grafiken allesamt relativ gut aus. Bei stärkerem Wind haben wir einfach zu wenig Datenpunkte, um wirklich viel aussagen zu konnen. Bei schwachem Wind konnte man die Unterteilung vermutlich sogar noch etwas feiner machen, allerdings kann man das dann nicht mehr gut mit 2006 vergleichen, wo wir in der Tat nur eine sehr kurze Messzeit hatten."
   ]
  },
  {
   "cell_type": "markdown",
   "metadata": {},
   "source": [
    "Zu besseren Vergleichbarkeit werden nun die Polardigramme aller Messjahre für jeweils eine bestimmte Geschwindigkeit übereinander dargestellt."
   ]
  },
  {
   "cell_type": "code",
   "execution_count": null,
   "metadata": {},
   "outputs": [],
   "source": [
    "#speedbins=np.arange(1.5,16,3)\n",
    "\n",
    "fig = plt.figure(figsize = (25, 5))\n",
    "for i, tit in zip(range(len(speedbins)), speedbins[:-1]+np.diff(speedbins)/2.):\n",
    "    aux, ax = NX2.polar.setup_plot(fig, 170 + i+1)\n",
    "    for pol, lab in zip([polar06, polar08, polar11, polar12], ['2006', '2008','2011','2012']):\n",
    "        temp = NX2.polar.plot_half_circle(aux, anglebins[0:-1] + np.diff(anglebins)/2., pol[i+1,1:], lw = 3., label = lab)\n",
    "    ax.legend(loc = 'upper right')\n",
    "    ax.set_title('TWS ca. '+ str(tit) + ' kn')"
   ]
  },
  {
   "cell_type": "markdown",
   "metadata": {},
   "source": [
    "Ich lese hier ab, dass die Lusoria Regina am langsamsten ist. Das kann natürlich verschiedene Gründe haben, einer davon ist, dass wir 2006 noch nicht so gut Segeln konnten und nicht das beste aus dem Schiff herausgeholt haben...\n",
    "Es scheint auch so zu sein, dass wir 2012 tendenziell etwas schneller waren als 2011. Vielleicht hat sich das das größere Segel ausgewirkt. Andererseits ist der Unterschied nicht besonders gross und ich bin wir nicht sicher, das sich die beiden Verteilungen statistisch signifikant unterscheiden (Das könnte man natürlich mit einem KS-Test prüfen, wenn wir das wollen). Für das Buch würde ich die Plots vielleicht auch doch wieder mit breiteren bins machen.\n",
    "\n",
    "Was liest du hier noch ab?"
   ]
  },
  {
   "cell_type": "markdown",
   "metadata": {},
   "source": [
    "Ich habe auch mal die Bücher aufgeschlagen und versucht diese neuen Kurven mit dem zu vergleichen, was schon gedruckt ist. Da scheint es mir (auch wenn wir in IDL etwas andere bins verwendet haben), dass die neue Auswertung immer etwas schneller ist. Woran mag das liegen? Haben wir damals die BSP Kalibration nicht so gut im Griff gehabt? Ich dachte immer, das ware einer der schwachsten Punkte in der Analyse, wahrend hier der Vergleich (s. oben) ja zeigt, das wir dieses Problem nun gelöst haben. Wir finde ich das am besten heraus, wo der Unterschied herkommt?"
   ]
  },
  {
   "cell_type": "markdown",
   "metadata": {},
   "source": [
    "### Polardiagramme für das Buch"
   ]
  },
  {
   "cell_type": "markdown",
   "metadata": {},
   "source": [
    "In der Buchveroffentlichung sollen auch Polardigramme gezeigt werden, allerdings nicht alle, die oben gezeight werden, sondern nur eine Auswahl davon (z.B. wollen wir dort den Unterschied zwischen mean und median nicht diskutieren). In den folgenden Zellen werden die Polardigramme erzeugt; sind enthalten keine neuen Informationen, sondern sind nur anders präsentiert. Auch die bins sind etwas anders gewählt."
   ]
  },
  {
   "cell_type": "code",
   "execution_count": null,
   "metadata": {},
   "outputs": [],
   "source": [
    "anglebinsbook = np.arange(0, 181., 15.0001)\n",
    "speedbinsbook = np.arange(1,12,2)"
   ]
  },
  {
   "cell_type": "code",
   "execution_count": null,
   "metadata": {},
   "outputs": [],
   "source": [
    "fig = plt.figure(figsize = (3,5))\n",
    "aux, ax = NX2.polar.setup_plot(fig, 111, maxr=5)\n",
    "colors = ['r','g','b','k','r','c','orange','r']\n",
    "poldat = my_polar(d11, rawTWA=True, speedbins=speedbinsbook, anglebins=anglebinsbook)\n",
    "temp = NX2.polar.plot(aux, poldat, speedbinsbook, anglebinsbook, color = colors)\n",
    "ax.set_title('Polardiagram - 2011')\n",
    "if ENTWURF: fig.text(.5,.5, 'ENTWURF', rotation=45,ha='center', va='center', fontsize=35, alpha=.5, color='grey')\n",
    "fig.savefig(os.path.join(plotpath,'polar11.pdf'))"
   ]
  },
  {
   "cell_type": "code",
   "execution_count": null,
   "metadata": {},
   "outputs": [],
   "source": [
    "fig = plt.figure(figsize = (3,5))\n",
    "aux, ax = NX2.polar.setup_plot(fig, 111, maxr=5)\n",
    "colors = ['r','g','b','k','r','c','orange','r']\n",
    "poldat = my_polar(d11, speedbins=speedbinsbook, anglebins=anglebinsbook)\n",
    "temp = NX2.polar.plot(aux, poldat, speedbinsbook, anglebinsbook, color = colors)\n",
    "ax.set_title('Polardiagram - 2011\\nDrift korrigiert')\n",
    "if ENTWURF: fig.text(.5,.5, 'ENTWURF', rotation=45,ha='center', va='center', fontsize=35, alpha=.5, color='grey')\n",
    "fig.savefig(os.path.join(plotpath,'polar11korr.pdf'))"
   ]
  },
  {
   "cell_type": "code",
   "execution_count": null,
   "metadata": {},
   "outputs": [],
   "source": [
    "speedbins2=np.array([3.,6., 9.])\n",
    "\n",
    "polar06b = my_polar(d06, speedbins=speedbins2, anglebins=anglebinsbook)\n",
    "polar08b = my_polar(d08, speedbins=speedbins2, anglebins=anglebinsbook)\n",
    "polar11b = my_polar(d11, speedbins=speedbins2, anglebins=anglebinsbook)\n",
    "polar12b = my_polar(d12, speedbins=speedbins2, anglebins=anglebinsbook)\n",
    "\n",
    "fig = plt.figure(figsize = (5.5, 4))\n",
    "aux1, ax1, grid_helper1 = NX2.polar.setup_plot(fig, 121, maxr=3.5, returnall=True)\n",
    "aux2, ax2, grid_helper2 = NX2.polar.setup_plot(fig, 122, maxr=3.5, returnall=True)\n",
    "for pol, lab, col in zip([polar06b, polar08b, polar11b, polar12b], ['Regina 2006', 'Victoria 2008','Rhenana 2011','Rhenana 2012'], ['orange', 'purple', 'fuchsia', 'olive']):\n",
    "    temp = NX2.polar.plot_half_circle(aux1, anglebinsbook[0:-1] + np.diff(anglebinsbook)/2., pol[1,1:], lw = 3., label = lab, ls='-', color=col, marker='o')\n",
    "    temp = NX2.polar.plot_half_circle(aux2, anglebinsbook[0:-1] + np.diff(anglebinsbook)/2., pol[2,1:], lw = 3., label = lab, ls='-', color=col, marker='o')\n",
    "\n",
    "ax2.legend(loc = 'upper right', bbox_to_anchor=(1.3, 1.03))\n",
    "ax1.set_title('Wind 3-6 Knoten')\n",
    "ax2.set_title('Wind 6-9 Knoten')\n",
    "grid_helper1.grid_finder.grid_locator2._nbins=7\n",
    "grid_helper2.grid_finder.grid_locator2._nbins=7\n",
    "if ENTWURF: fig.text(.5,.5, 'ENTWURF', rotation=45,ha='center', va='center', fontsize=35, alpha=.5, color='grey')\n",
    "fig.savefig(os.path.join(plotpath,'polarVergleich.pdf'), transparent=True)"
   ]
  },
  {
   "cell_type": "code",
   "execution_count": null,
   "metadata": {},
   "outputs": [],
   "source": [
    "speedbins2"
   ]
  },
  {
   "cell_type": "code",
   "execution_count": null,
   "metadata": {},
   "outputs": [],
   "source": [
    "anglebinsbook"
   ]
  },
  {
   "cell_type": "code",
   "execution_count": null,
   "metadata": {},
   "outputs": [],
   "source": [
    "polar12b.shape"
   ]
  },
  {
   "cell_type": "markdown",
   "metadata": {},
   "source": [
    "## Drift"
   ]
  },
  {
   "cell_type": "code",
   "execution_count": null,
   "metadata": {},
   "outputs": [],
   "source": [
    "polar3(d06,drift=True)"
   ]
  },
  {
   "cell_type": "code",
   "execution_count": null,
   "metadata": {},
   "outputs": [],
   "source": [
    "polar3(d08, drift=True)"
   ]
  },
  {
   "cell_type": "code",
   "execution_count": null,
   "metadata": {},
   "outputs": [],
   "source": [
    "polar3(d11,drift=True)"
   ]
  },
  {
   "cell_type": "code",
   "execution_count": null,
   "metadata": {},
   "outputs": [],
   "source": [
    "polar3(d12,drift=True)"
   ]
  },
  {
   "cell_type": "code",
   "execution_count": null,
   "metadata": {},
   "outputs": [],
   "source": [
    "drift06 = my_polar(d06, drift=True)\n",
    "drift08 = my_polar(d08, drift=True)\n",
    "drift11 = my_polar(d11, drift=True)\n",
    "drift12 = my_polar(d12, drift=True)"
   ]
  },
  {
   "cell_type": "code",
   "execution_count": null,
   "metadata": {},
   "outputs": [],
   "source": [
    "fig = plt.figure(figsize = (25, 5))\n",
    "for i, tit in zip(range(len(speedbins)), speedbins[:-1]+np.diff(speedbins)/2.):\n",
    "    aux, ax = NX2.polar.setup_plot(fig, 170 + i+1, maxr=50)\n",
    "    for pol, lab in zip([drift06, drift08, drift11, drift12], ['2006', '2008','2011','2012']):\n",
    "        temp = NX2.polar.plot_half_circle(aux, anglebins[0:-1] + np.diff(anglebins)/2., pol[i+1,1:], lw = 3., label = lab)\n",
    "    ax.legend(loc = 'lower left')\n",
    "    ax.set_title('Wind ca. '+ str(tit) + ' kn')\n",
    "    ax.axis[\"left\"].label.set_text(r\"Driftwinkel [$^{\\circ}$]\")"
   ]
  },
  {
   "cell_type": "code",
   "execution_count": null,
   "metadata": {},
   "outputs": [],
   "source": [
    "drift06 = my_polar(d06, drift=True, speedbins=speedbins2, anglebins=anglebinsbook)\n",
    "drift08 = my_polar(d08, drift=True, speedbins=speedbins2, anglebins=anglebinsbook)\n",
    "drift11 = my_polar(d11, drift=True, speedbins=speedbins2, anglebins=anglebinsbook)\n",
    "drift12 = my_polar(d12, drift=True, speedbins=speedbins2, anglebins=anglebinsbook)\n",
    "\n",
    "fig = plt.figure(figsize = (5.5, 4))\n",
    "aux1, ax1, grid_helper1 = NX2.polar.setup_plot(fig, 121, maxr=50, returnall=True)\n",
    "aux2, ax2, grid_helper2 = NX2.polar.setup_plot(fig, 122, maxr=50, returnall=True)\n",
    "\n",
    "for pol, lab, col in zip([drift06, drift08, drift11, drift12], ['Regina 2006', 'Victoria 2008','Rhenana 2011','Rhenana 2012'], ['orange', 'purple', 'fuchsia', 'olive']):\n",
    "    temp = NX2.polar.plot_half_circle(aux1, anglebinsbook[0:-1] + np.diff(anglebinsbook)/2., pol[1,1:], lw = 3., label = lab, ls='-', color=col, marker='o')\n",
    "    temp = NX2.polar.plot_half_circle(aux2, anglebinsbook[0:-1] + np.diff(anglebinsbook)/2., pol[2,1:], lw = 3., label = lab, ls='-', color=col, marker='o')\n",
    "\n",
    "ax1.axis[\"left\"].label.set_text(r\"Driftwinkel [Grad]\")\n",
    "ax2.axis[\"left\"].label.set_text(r\"Driftwinkel [Grad]\")\n",
    "ax2.legend(loc = 'lower left', bbox_to_anchor=(0.1, -.05))\n",
    "ax1.set_title('Wind 3-6 Knoten')\n",
    "ax2.set_title('Wind 6-9 Knoten')\n",
    "grid_helper1.grid_finder.grid_locator2._nbins=5\n",
    "grid_helper2.grid_finder.grid_locator2._nbins=5\n",
    "if ENTWURF: fig.text(.5,.5, 'ENTWURF', rotation=45,ha='center', va='center', fontsize=35, alpha=.5, color='grey')\n",
    "fig.savefig(os.path.join(plotpath,'driftVergleich.pdf'), transparent=True)"
   ]
  },
  {
   "cell_type": "markdown",
   "metadata": {},
   "source": [
    "## Vergleich mit Widerstandsmessungen im Tank"
   ]
  },
  {
   "cell_type": "code",
   "execution_count": null,
   "metadata": {},
   "outputs": [],
   "source": [
    "fig = plt.figure(figsize=(4.5,3))\n",
    "ax = fig.add_subplot(111)\n",
    "speedbinsmid = speedbins[:-1]+np.diff(speedbins)/2.\n",
    "# star plot at 0\n",
    "speedbinsmid = np.hstack([[0], speedbinsmid])\n",
    "for pol, lab in zip([polar06, polar08, polar11, polar12], ['2006', '2008','2011','2012']):\n",
    "    # np.hstack([[0], pol[1:-1,-1]]) ignores the first bin pol\n",
    "    # This bin hald the information for speeds below the lowest boundary in speedbins\n",
    "    # We want to ignore this nomber and set it to 0, because the log does not record\n",
    "    # very low speeds, so this bin is not reliable\n",
    "    ax.plot(np.hstack([[0], pol[1:-1,-1]]), speedbinsmid, label=lab, lw=2., marker='o')\n",
    "ax.set_xlabel(u'Fahrt über Grund [Knoten]')\n",
    "ax.set_ylabel('Windgeschwindigkeit [Knoten]')\n",
    "ax.set_title('Wasserwiderstand')\n",
    "ax.legend(loc='upper left')\n",
    "fig.subplots_adjust(bottom=0.15)\n",
    "if ENTWURF: fig.text(.5,.5, 'ENTWURF', rotation=45,ha='center', va='center', fontsize=35, alpha=.5, color='grey')\n",
    "fig.savefig(os.path.join(plotpath,'VergleichTank.pdf'), transparent=True)"
   ]
  },
  {
   "cell_type": "markdown",
   "metadata": {},
   "source": [
    "Nun vergleichen wir die am Nachbau gemessenen Geschwindigkeiten mit den Widerstandsmessungen am Model im Tank zu vergleichen (siehe Kapitel von XXX in diesem Band). Im Tank werden die Modelle bei definierter Geschwindigkeit bewegt und die dazu notwendige Kraft gemessen. Am Nachbau kennen wir die Kraft, die auf das Schiff wirkt, nicht genau, aber die Kraft, die das Schiff beim Segeln antreibt, ist in etwa proportional zur Windgeschwindigkeit. Die dargestellten Werte sind alle bei Wind von achtern gemessen. In dieser Position ist es leicht, das Segel optimal einzustellen. \n",
    "Für alle von Wasser umströmten Objekte gilt, dass die benötigte Kraft exponentiell mit der Geschwindigkeit steigt und in den Messungen der Schiffbauversuchsanstalt in Potsdam wurde dies auch für alle getesteten Modelle römischer Kriegsschiffe bestätigt. In der Grafik ist dieser Zusammenhang nicht gut zu erkennen, weil die gemessenen Geschwindigkeiten relativ klein sind und von den bereits diskutierten Messungenauigkeiten beeinflusst werden. Die Daten der Schiffsbauversuchsanstalt zeigen zun Beispiel, dass für das Schiff vom Typ Oberstimm (2008) nur eine Kraft von 0,22 kN benötigt wird, um 4 kn zu erreichen, während 1 kN für 8,0 kn erforderlich ist. So schnell sind wir aber im Experiment nie gesegelt (der Mast brach, bevor diese Geschwindigkeit erreicht werden konnte). Andererseits stimmen die am Nachbau gemessenen Werte qualitativ gut mit den Widerstandsmessungen am verkleinerten Modell im Tank überein. Bei einer Geschwindigkeit von 3 kn ergibt der Versuch im Wassertank, dass die Lusoria Regina (2006) ca 80% mehr Antriebskraft erfordert als die Victoria (2008). Auch am Nachbau erfordert die Regina durchgängig einen stärkeren Wind als die Victoria, um eine bestimmte Geschwindigkeit über Grund zu erreichen. \n",
    "\n",
    "Im Vergleich der Victoria und der Lusoria Rhenana (2011 und 2012) ergeben die Tests im Tank, dass die Victoria eine geringere Kraft erfordert. Am Nachbau hingegen unterscheiden sich diese beiden Schiffe kaum."
   ]
  },
  {
   "cell_type": "markdown",
   "metadata": {},
   "source": [
    "### Ein paar Situationen, die wir gern mal von Hand anschauen wollen"
   ]
  },
  {
   "cell_type": "code",
   "execution_count": null,
   "metadata": {},
   "outputs": [],
   "source": [
    "dat = d11.where(d11['day'] == 12)\n",
    "dat = dat.when((12,45,00),(13,00,00))\n",
    "filename = '/home/moritz/Dropbox/NX2/2013/'"
   ]
  },
  {
   "cell_type": "code",
   "execution_count": null,
   "metadata": {},
   "outputs": [],
   "source": [
    "ax = dat.plot_speeds()\n",
    "plt.savefig(plotpath+'ex_speed.png')"
   ]
  },
  {
   "cell_type": "code",
   "execution_count": null,
   "metadata": {},
   "outputs": [],
   "source": [
    "fig = dat.plot_course(n=30, scale = 20)\n",
    "fig.savefig(plotpath + 'ex_course.png')"
   ]
  },
  {
   "cell_type": "code",
   "execution_count": null,
   "metadata": {},
   "outputs": [],
   "source": [
    "fig = plt.figure(figsize=(4,4))\n",
    "ax = fig.add_subplot(111)\n",
    "ax.plot(dat['TWA'], label = 'Windwinkel')\n",
    "ax.plot(np.abs(dat['TWA']), label = \"Betrag des Winkels\")\n",
    "ax.plot(NX2.math.smooth_expdec(np.abs(dat['TWA']), 10), label = u\"Winkel geglättet\")\n",
    "ax.set_xlabel('Zeit [Sekunden]')\n",
    "ax.set_ylabel('Winkel zum Wind [$^{\\circ}$]')\n",
    "ax.legend(loc = 'lower left')\n",
    "fig.subplots_adjust(top=0.97, right=0.97)\n",
    "plt.savefig(plotpath + '_wind.png')"
   ]
  },
  {
   "cell_type": "code",
   "execution_count": null,
   "metadata": {},
   "outputs": [],
   "source": [
    "plt.plot(dat['TWS'])\n",
    "plt.ylabel('TWS')\n",
    "plt.savefig(plotpath + 'ex_TWS.png')"
   ]
  },
  {
   "cell_type": "markdown",
   "metadata": {},
   "source": [
    "## Grafiken zur Erklärung des Polardigrams"
   ]
  },
  {
   "cell_type": "markdown",
   "metadata": {},
   "source": [
    "Um zu erklären, was ein Polardigram ist, brauchen wir ein paar Beispielgrafiken."
   ]
  },
  {
   "cell_type": "code",
   "execution_count": null,
   "metadata": {},
   "outputs": [],
   "source": [
    "fig = plt.figure(figsize = (3,5))\n",
    "aux, ax = NX2.polar.setup_plot(fig, 111, maxr=5)\n",
    "colors = ['r','g','b','k','r','c','orange','r']\n",
    "#poldat = my_polar(d11, rawTWA=True, speedbins=speedbinsbook, anglebins=anglebinsbook)\n",
    "#temp = NX2.polar.plot(aux, poldat, speedbinsbook, anglebinsbook, color = colors)\n",
    "#ax.set_title('Polardiagram')\n",
    "image = plt.imread('ship2.png')\n",
    "axicon = fig.add_axes([-0.15,0.15,0.8,0.8], frameon=False)\n",
    "axicon.imshow(image)\n",
    "axicon.set_xticks([])\n",
    "axicon.set_yticks([])\n",
    "\n",
    "ax.annotate('vor dem\\nWind', xy=(.05, .4),  xycoords='axes fraction',\n",
    "                xytext=(0.05, .1), textcoords='axes fraction', ha='center', va='center',\n",
    "                size=20,\n",
    "                bbox=dict(boxstyle=\"round\", fc=(1.0, 0.7, 0.7), ec=(1., .5, .5)),\n",
    "                arrowprops=dict(arrowstyle=\"fancy\",\n",
    "                                fc=\".3\", ec=\"none\",\n",
    "                                connectionstyle=\"angle3,angleA=0,angleB=-90\"),\n",
    "                )\n",
    "\n",
    "ax.annotate('halber\\nWind', xy=(.2, .5),  xycoords='axes fraction',\n",
    "                xytext=(.6,.5), textcoords='axes fraction', va='center',\n",
    "                size=20,\n",
    "                bbox=dict(boxstyle=\"round\", fc=(1.0, 0.7, 0.7), ec=(1., .5, .5)),\n",
    "                arrowprops=dict(arrowstyle=\"fancy\",\n",
    "                                fc=\".3\", ec=\"none\",\n",
    "                                connectionstyle=\"angle3,angleA=0,angleB=-90\"),\n",
    "                )\n",
    "\n",
    "ax.annotate('im\\nWind', xy=(.05, .65),  xycoords='axes fraction',\n",
    "                xytext=(.05,.95), textcoords='axes fraction', ha='center', va='center',\n",
    "                size=20,\n",
    "                bbox=dict(boxstyle=\"round\", fc=(1.0, 0.7, 0.7), ec=(1., .5, .5)),\n",
    "                arrowprops=dict(arrowstyle=\"fancy\",\n",
    "                                fc=\".3\", ec=\"none\",\n",
    "                                connectionstyle=\"angle3,angleA=0,angleB=-90\"),\n",
    "                )\n",
    "\n",
    "aux.plot(150+20.*np.random.random(50),np.random.normal(3., .5, 50),'b<')\n",
    "aux.plot(130+20.*np.random.random(50),np.random.normal(2.5, .5, 50),'r<')\n",
    "aux.plot(110+20.*np.random.random(50),np.random.normal(2., .5, 50),'g<')\n",
    "aux.plot(np.array([150,130,110])+10,[3,2.5,2],'k',lw=4,marker='o', ms=10, zorder=3)\n",
    "\n",
    "#if ENTWURF: fig.text(.5,.5, 'ENTWURF', rotation=45,ha='center', va='center', fontsize=35, alpha=.5, color='grey')\n",
    "fig.savefig(os.path.join(plotpath,'polar_beispiel.pdf'))"
   ]
  },
  {
   "cell_type": "markdown",
   "metadata": {},
   "source": [
    "## Abspeichern der Ergebisse\n",
    "Jetzt speichern wir die Polardigramme jeweils als Datei ab."
   ]
  },
  {
   "cell_type": "code",
   "execution_count": null,
   "metadata": {},
   "outputs": [],
   "source": []
  }
 ],
 "metadata": {
  "hide_input": false,
  "kernelspec": {
   "display_name": "Python [conda env:NX2p27]",
   "language": "python",
   "name": "conda-env-NX2p27-py"
  },
  "language_info": {
   "codemirror_mode": {
    "name": "ipython",
    "version": 2
   },
   "file_extension": ".py",
   "mimetype": "text/x-python",
   "name": "python",
   "nbconvert_exporter": "python",
   "pygments_lexer": "ipython2",
   "version": "2.7.18"
  }
 },
 "nbformat": 4,
 "nbformat_minor": 1
}
