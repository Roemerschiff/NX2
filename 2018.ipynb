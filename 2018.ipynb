{
 "cells": [
  {
   "cell_type": "code",
   "execution_count": null,
   "metadata": {},
   "outputs": [],
   "source": [
    "import os\n",
    "import sys\n",
    "import datetime\n",
    "from glob import glob\n",
    "\n",
    "import numpy as np\n",
    "import matplotlib.pyplot as plt\n",
    "import matplotlib\n",
    "\n",
    "# on my computer NX2 is not installed, I just import directly from the development directory\n",
    "#sys.path.append(os.path.abspath('../NX2/'))\n",
    "sys.path.append('/Users/hamogu/code/NX2/')\n",
    "import NX2\n",
    "import NX2.polar\n",
    "import NX2.math\n",
    "sys.path.append(os.path.abspath('.'))\n",
    "import utils\n",
    "\n",
    "%matplotlib inline\n",
    "\n",
    "ENTWURF = False"
   ]
  },
  {
   "cell_type": "code",
   "execution_count": null,
   "metadata": {},
   "outputs": [],
   "source": [
    "datapath = '/Users/hamogu/MITDropbox/NX2/'\n",
    "#datapath = '/melkor/d1/guenther/Dropbox/NX2/'\n",
    "plotpath = os.path.join(datapath, '2018/')\n",
    "#geojsonpath = '/melkor/d1/guenther/projects/NX2/geojson/'\n",
    "geojsonpath = '/Users/hamogu/projects/NX2/geojson/'"
   ]
  },
  {
   "cell_type": "code",
   "execution_count": null,
   "metadata": {},
   "outputs": [],
   "source": [
    "# Move this into utils files once it's ready to be canned\n",
    "filelist = glob(os.path.join(datapath, '2018', '2018*csv'))\n",
    "filelist.sort()"
   ]
  },
  {
   "cell_type": "code",
   "execution_count": null,
   "metadata": {},
   "outputs": [],
   "source": [
    "data = [NX2.NX2Table(f, utils.date_from_filename(f), remove_empty=False) for f in filelist]\n",
    "# Compass data and all related columns are empty in first file (and thus deleted on read-in)\n",
    "#for n in ['HDC', 'DFT', 'SET']:\n",
    "#    data[0].add_column(n, np.nan)\n",
    "# We don't have a rowfile with that info yet\n",
    "for d in data:\n",
    "    d.add_column('sailing', 0)"
   ]
  },
  {
   "cell_type": "code",
   "execution_count": null,
   "metadata": {},
   "outputs": [],
   "source": [
    "# Could use atpy to read in table, but I'm more used to astropy, so this is just faster\n",
    "from astropy.table import Table\n",
    "sailing = Table.read(os.path.join(datapath, '2018', 'sailing.csv'), format='ascii')"
   ]
  },
  {
   "cell_type": "code",
   "execution_count": null,
   "metadata": {},
   "outputs": [],
   "source": [
    "for d in data:\n",
    "    d.add_empty_column('rowpermin', np.int_)\n",
    "    for row in sailing:\n",
    "        year, month, day = row['date'].split(':')\n",
    "        t1 = tuple([int(x) for x in row['setzen'].split(':')])\n",
    "        t2 = tuple([int(x) for x in row['hoch'].split(':')])\n",
    "        inddate = (d.year == int(year)) & (d.month == int(month)) & (d.day == int(day))\n",
    "        indtime = (d.time() >= datetime.time(*t1)) & (d.time() <= datetime.time(*t2))\n",
    "        d['sailing'][inddate & indtime] = 1        \n",
    "        d['rowpermin'][inddate & indtime] = 99 * row['riemen']"
   ]
  },
  {
   "cell_type": "code",
   "execution_count": null,
   "metadata": {},
   "outputs": [],
   "source": [
    "from copy import deepcopy\n",
    "merged = deepcopy(data[0])\n",
    "for d in data[1:]:\n",
    "    merged.append(d)"
   ]
  },
  {
   "cell_type": "markdown",
   "metadata": {},
   "source": [
    "## Bestimmung des Korrekturfaktors"
   ]
  },
  {
   "cell_type": "code",
   "execution_count": null,
   "metadata": {},
   "outputs": [],
   "source": [
    "def fitplot_BSP(data, ax, titel = ''):\n",
    "    fit, ind = data.fit_BSP_corr()\n",
    "    ax.plot(data.SOG[~ind], data.BSP[~ind], 'y.', label = 'data not used for fit')\n",
    "    ax.plot(data.SOG[ind], data.BSP[ind],'k.', label = 'data')\n",
    "    ax.plot(plt.xlim(), fit.beta * plt.xlim(), label = 'fit')\n",
    "    ax.set_title(titel + '$\\\\beta = ${0:4.2f}'.format(fit.beta[0]))"
   ]
  },
  {
   "cell_type": "code",
   "execution_count": null,
   "metadata": {},
   "outputs": [],
   "source": [
    "fig = plt.figure(figsize = (20,10))\n",
    "for i, d in enumerate(data):\n",
    "    ax = fig.add_subplot(4,4,i+1)\n",
    "    fitplot_BSP(d, ax, titel = str(i)+': ')\n",
    "    ax.set_xlim([0,5])\n",
    "    ax.set_ylim([0,5])\n",
    "    if i in [0,4,8,12]:\n",
    "        ax.set_ylabel('BSP')\n",
    "    if i in [12,13,14,15]:\n",
    "        ax.set_xlabel('SOG')"
   ]
  },
  {
   "cell_type": "markdown",
   "metadata": {},
   "source": [
    "Jede Grafik hier zeigt einen Datenssatz. Die hellen Punkte sind alle Datenpunkte in diesem Datensatz, die dunkel hervorgehobenen sind die Punkte, die geeignet sind, den Korrekturfaktor fur das Log zu bestimmen.\n",
    "\n",
    "In einigen Fahrten fehlte der Kompass, weil das Kabel defekt war. Fur diese Fahrten konnen wir keinen Korrekturfaktor mit unserem normalen Algorithmus bestimmen, weil wir dazu den Kompasskurs mit den GPS-Kurs vergleichen und nur Punkte verwenden, bei denen diese beiden relativ gut ubereinstimmen. Dies ist notwending, um zu verhindern, dass Strecken, bei denen das Schiff seitwarts driftet, den Wert verfalschen. \n",
    "\n",
    "Die Steigungen der Regressionsgeraden liegen im Bereich 0.8-0.9. Auch wenn wir hier keine formalen Unsicherheiten auf diesen Messwert angeben, so kann man doch mit dem Auge erkennen, dass immer einige dunkle Punkte von der Gerade abweichen und gerade fur kurzere Fahrten kann das den gemessenen Korrekturfaktor beeinflussen. Das kann zum Beispiel gesschen, wenn der Wind with mit der Zeit andert. \n",
    "\n",
    "Die Halterung des Log wurde mindestens zwei Mal durch Grundkontakt beschadigt (am zweiten und am dritten Tag der Messfahrten), aber wir sehen keine signifikatne Anderung des Korrekturfaktors. Offensichtlich wurde das Log also in gleicher Position wieder eingebaut.\n",
    "\n",
    "Mit Blick auf die oben gezeigten Regressionen, verwenden wir den Korrekturfaktor 0.85."
   ]
  },
  {
   "cell_type": "code",
   "execution_count": null,
   "metadata": {},
   "outputs": [],
   "source": [
    "for d in data:\n",
    "    d.BSP = d.BSP / 0.85"
   ]
  },
  {
   "cell_type": "code",
   "execution_count": null,
   "metadata": {},
   "outputs": [],
   "source": [
    "for d in data:\n",
    "    d.plot_course(scale=20, n=60)"
   ]
  },
  {
   "cell_type": "code",
   "execution_count": null,
   "metadata": {},
   "outputs": [],
   "source": [
    "for i, d in enumerate(data):\n",
    "    d.write_geojson(os.path.join(geojsonpath, '2018', os.path.basename(filelist[i]) + '.geojson'))"
   ]
  },
  {
   "cell_type": "code",
   "execution_count": null,
   "metadata": {},
   "outputs": [],
   "source": [
    "fig = plt.figure(figsize=(12, 12))\n",
    "for i, d in enumerate(data):\n",
    "    name = os.path.basename(filelist[i][:-7])\n",
    "    ax = fig.add_subplot(4, 3, i + 1)\n",
    "    ax.xaxis.set_major_formatter(matplotlib.dates.DateFormatter('%H:%M', tz=None))\n",
    "    sog = ax.plot(d.datetime(), d.SOG, label='GPS')\n",
    "    bsp = ax.plot(d.datetime(), d.BSP, label='Log - orginal')\n",
    "    xlab = ax.get_xticklabels()\n",
    "    for label in xlab: label.set_rotation(30)\n",
    "    ax.set_xlabel('Uhrzeit')\n",
    "    ax.set_ylabel('Geschwindigkeit [Knoten]')\n",
    "    ax.set_title(name)\n",
    "    #ax.legend()\n",
    "fig.subplots_adjust(hspace=0.5)"
   ]
  },
  {
   "cell_type": "code",
   "execution_count": null,
   "metadata": {},
   "outputs": [],
   "source": [
    "import mpld3\n",
    "\n",
    "fig = data[9].plot_speeds()\n",
    "mpld3.save_html(fig, '../test2018.html')\n",
    "mpld3.display(fig)"
   ]
  },
  {
   "cell_type": "code",
   "execution_count": null,
   "metadata": {},
   "outputs": [],
   "source": [
    "for i, d in enumerate(data):\n",
    "    name = os.path.basename(filelist[i][:-7])\n",
    "    fig = plt.figure(figsize=(12, 4))\n",
    "    ax = fig.add_subplot(111)\n",
    "    ax.xaxis.set_major_formatter(matplotlib.dates.DateFormatter('%H:%M', tz=None))\n",
    "    sog = ax.plot(d.datetime(), d.SOG, label='GPS')\n",
    "    bsp = ax.plot(d.datetime(), d.BSP, label='Log - orginal')\n",
    "    xlab = ax.get_xticklabels()\n",
    "    for label in xlab: label.set_rotation(30)\n",
    "    ax.set_xlabel('Uhrzeit')\n",
    "    ax.set_ylabel('Geschwindigkeit [Knoten]')\n",
    "    ax.set_title(name)\n",
    "    ax.legend()\n",
    "    mpld3.save_html(fig, os.path.join(datapath, '2018', 'figures', name + '.html'))\n"
   ]
  },
  {
   "cell_type": "code",
   "execution_count": null,
   "metadata": {},
   "outputs": [],
   "source": []
  },
  {
   "cell_type": "code",
   "execution_count": null,
   "metadata": {},
   "outputs": [],
   "source": []
  },
  {
   "cell_type": "code",
   "execution_count": null,
   "metadata": {},
   "outputs": [],
   "source": []
  },
  {
   "cell_type": "code",
   "execution_count": null,
   "metadata": {},
   "outputs": [],
   "source": []
  },
  {
   "cell_type": "markdown",
   "metadata": {},
   "source": [
    "## Polardiagramme\n",
    "\n",
    "### Vorbereitendes Datenfiltern\n",
    "\n",
    "Bevor wir die Daten zu Polardiagrammen zusammenstellen, müssen wir sie filtern, denn nicht jeder Datenpunkt kann dafür genutzt werden. In diesem Abschnitt untersuchen wir, welche Filter sinnvoll sind. Die verschiedenen Filter, die wir auf die Daten anwenden, sollen verschiedene Effekte berücksichtigen: Zuerst beschränken wir uns auf die Messpunkte, die beim Segeln aufgenommen wurden (ohne Hilfe der Ruderer). Dann verlangen wir, dass die Geschwindikgeit sich nur langsam ändert, denn wenn z.B. der Bug in den Wind gedreht wird, dann hat das Schiff zunächst noch eine Geschwindigkeit, die aber schnell abnimmt. Das bedeutet nicht, das wir gegen den Wind segeln können, sondern nur dass die Daten, die direkt nach einer Richtungsänderung, direkt nach dem Hissen des Segels oder in einer Windböhe aufgenommen wurden, herausgefiltert werden müssen. Außerdem ändert sich der Wind sehr viel schneller, als das Schiff seine Geschwindigkeit anpassen kann. Deshalb glätten wir die Windgeschwindigkeit etwas, um diesen Effekt auszugleichen. Dafür wählen wir eine Funktion, die nur vorausgegangene, aber nicht zukünftige Messwerte verwendet; deshalb erscheinen die Maxima im geglätteten Wind immer etwas später. Die nächste Grafik zeigt ein Beispiel dafür."
   ]
  },
  {
   "cell_type": "code",
   "execution_count": null,
   "metadata": {},
   "outputs": [],
   "source": [
    "fig = plt.figure(figsize=(4,3))\n",
    "ax = fig.add_subplot(111)\n",
    "ax.plot(merged['TWS'][3600:3800], label = 'gemessener Wind')\n",
    "ax.plot(NX2.math.smooth_expdec(merged['TWS'], 10)[3600:3800], label = u'gegl\\u00e4tteter Wind')\n",
    "ax.set_xlabel('Zeit [Sekunden]')\n",
    "ax.set_ylabel('Windgeschwindigkeit [Knoten]')\n",
    "ax.legend()\n",
    "ax.set_ylim([0,10.9])"
   ]
  },
  {
   "cell_type": "markdown",
   "metadata": {},
   "source": [
    "In der nachsten Grafik schauen wir uns den Winkel zum Wind an. Dabei bedeutet $0^{\\circ}$, das die Galeere \"im Wind\" steht (der Bug in den Wind zeigt), während $180^{\\circ}$ meint, das der Wind von achtern kommt und die Galeere \"vor dem Wind\" segelt. Das Vorzeichen kann dabei positiv oder negativ sein, je nachdem ob der Wind von Steuerbord oder von Backbord kommt. \n",
    "Durch diese Skala kann es bei achterlichem Wind zu scheinbaren Spüngen kommen (z. B. um Sekunde 15 herum in der folgenden Grafik), wenn der Wind von $+179^{\\circ}$ zu $-179^{\\circ}$ wechselt. Da wir in der folgenden Analyse nicht zwischen Backbord und Steuerbord unterscheiden, genügt es, den Betrag des Windwinkels zu betrachten und so das Problem zu vermeiden. Außerdem sieht man in der Grafik, dass die gemessene Windrichtung sehr schnell hin- und herspringt, weil der Windmesser im Wind flattert. Dies ist besonders bei schwachen Wind der Fall und bei Wind vom Bug, wenn das Segel den Windmesser abdeckt. Der Windmesser ist zwar mit einem \"twin fin\" System ausgestattet, dass ein Hin-und Herflattern vermeiden soll, aber die gemessene Windrichtung schwankt immer noch im Sekundenbereich. Wenn wir dies nicht berücksichtigen, dann werden bei der Konstruktion eines Polardiagrams viele Messwerte bei unpassenden Windwinkeln einsortiert. \n",
    "Deshalb glätten wir auch die Windrichtung (z. B. schwankt der Windwinkel in der folgenden Grafik kurz vor Sekunde 150 von fast 0 auf 150, während sich die Geschwindigkeit in dieser kurzen Zeit kaum verändert.)."
   ]
  },
  {
   "cell_type": "code",
   "execution_count": null,
   "metadata": {},
   "outputs": [],
   "source": [
    "fig = plt.figure(figsize=(4,4))\n",
    "ax = fig.add_subplot(111)\n",
    "ax.plot(merged['TWA'][3600:3800], label = 'Windwinkel')\n",
    "ax.plot(np.abs(merged['TWA'][3600:3800]), label = \"Betrag des Winkels\")\n",
    "ax.plot(NX2.math.smooth_expdec(np.abs(merged['TWA'][3600:3800]), 10), label = u\"Winkel geglättet\")\n",
    "ax.set_xlabel('Zeit [Sekunden]')\n",
    "ax.set_ylabel('Winkel zum Wind [Grad]')\n",
    "ax.legend(loc = 'lower left')\n"
   ]
  },
  {
   "cell_type": "code",
   "execution_count": null,
   "metadata": {},
   "outputs": [],
   "source": [
    "sail  = NX2.polar.sail(merged)\n",
    "con = NX2.polar.near_const(NX2.math.smooth_gauss(merged['BSP'],10), max_diff = 0.007)\n",
    "TWSs = NX2.math.smooth_expdec(merged['TWS'], 10)\n",
    "TWAs = NX2.math.smooth_expdec(np.abs(merged['TWA']), 10)\n",
    "conTWA = NX2.polar.near_const(TWAs, max_diff = 1.5)"
   ]
  },
  {
   "cell_type": "code",
   "execution_count": null,
   "metadata": {},
   "outputs": [],
   "source": [
    "print 'Anzahl Datenpunkte mit Segel und ohne Ruder', sail.sum()\n",
    "print u'zusätzliche Bedingung: Fast konstante Geschwindigkeit', (sail & con).sum()\n",
    "print u'zusätzliche Bedingung: Fast konstanter Windwinkel', (sail & con & conTWA).sum()"
   ]
  },
  {
   "cell_type": "code",
   "execution_count": null,
   "metadata": {},
   "outputs": [],
   "source": [
    "fig = plt.figure(figsize = (10,5))\n",
    "NX2.polar.grid(merged.TWA[sail], merged.TWS[sail], merged.BSP[sail], \n",
    "               np.arange(0.,12.1,4.), np.arange(0.,181., 30.1), fig = fig)"
   ]
  },
  {
   "cell_type": "markdown",
   "metadata": {},
   "source": [
    "Man sieht schon, dass (außer in der letzten Zeile, wo wir einfach sehr wenige Daten haben) die meisten Verteilungen sehr gut um einen Mittelwert herum liegen. Allerdings sind manche Verteilungen noch so breit, dass man sich fragt, ob wir da vielleicht noch etwas mehr weglassen müssen. In der nächsten Grafik verweden wir nun die geglätteten Werte für Windgeschwindikeit und -winkel. Außerdem filtern wir die Zeiten heraus, bei denen sich die Bootsgeschwindigkeit oder der Windwinkel schnell ändern. Dabei ist es schwer, genau zu definieren, an welcher Stelle man hier abschneiden soll. Ich habe die Werte so gewählt, das nur die wirklich extremen Werte (wenn zum Beispiel eine enge Kurve gesegelt wird) herausgenommen werden. "
   ]
  },
  {
   "cell_type": "code",
   "execution_count": null,
   "metadata": {},
   "outputs": [],
   "source": [
    "fig = plt.figure(figsize = (10,5))\n",
    "ind = sail & con & conTWA\n",
    "NX2.polar.grid(TWAs[ind], TWSs[ind], merged.BSP[ind], np.arange(0.,12.1,4.), np.arange(0.,181., 30.1), fig = fig)"
   ]
  },
  {
   "cell_type": "markdown",
   "metadata": {},
   "source": [
    "Die Grafik sieht im wesentlichen noch so ähnlich aus wie darüber. Einige der Verteilungen sind etwas schmaler geworden, aber fur kleine Windgeschwindigkeiten gibt es immer noch Daten, die anzeigen, dass das Schiff gegen den Wind gesegelt ist. "
   ]
  },
  {
   "cell_type": "code",
   "execution_count": null,
   "metadata": {},
   "outputs": [],
   "source": [
    "def my_polar(data, drift=False, rawTWA=False, fct=np.median, \n",
    "             anglebins=np.arange(0, 181., 15.01), speedbins=np.arange(1.,16.,3.)):\n",
    "    '''Group data into arrays for polar diagrams\n",
    "\n",
    "    Parameters\n",
    "    ----------\n",
    "    data : NX2 data table\n",
    "    drift : bool\n",
    "        If true, return drift angle instead of BSP\n",
    "    rawTWA : bool\n",
    "        Usually, the grouping is done by the drift corrected TWA, i.e. the direction the ship actually moves in.\n",
    "        If True, the uncorrected TWA is used.\n",
    "    fct : function\n",
    "        see documentation of NX2.polar.group\n",
    "    '''\n",
    "    con = NX2.polar.near_const(NX2.math.smooth_gauss(data['BSP'],10), max_diff = 0.007)\n",
    "    TWSs = NX2.math.smooth_expdec(data['TWS'], 10)\n",
    "    TWAs = NX2.math.smooth_expdec(np.abs(data['TWA']), 10)\n",
    "    conTWA = NX2.polar.near_const(TWAs, max_diff = 1.5)\n",
    "    TWAsdrift = np.abs(TWAs)+np.abs(NX2.math.bearingdiff180(data.HDC, data.COG))\n",
    "    ind = con & conTWA & NX2.polar.sail(data)\n",
    "    if not drift:\n",
    "        if rawTWA:\n",
    "            return NX2.polar.group(TWAs[ind], TWSs[ind], data['BSP'][ind], speedbins, anglebins, fct=fct)\n",
    "        else:\n",
    "            return NX2.polar.group(TWAsdrift[ind], TWSs[ind], data['BSP'][ind], speedbins, anglebins, fct=fct)\n",
    "    else:\n",
    "        DFT= np.abs(NX2.math.bearingdiff180(data['HDC'], data['COG']))\n",
    "        DFTs = NX2.math.smooth_expdec(DFT, 10)\n",
    "        return NX2.polar.group(TWAs[ind], TWSs[ind], DFTs[ind], speedbins, anglebins, fct=fct)"
   ]
  },
  {
   "cell_type": "code",
   "execution_count": null,
   "metadata": {},
   "outputs": [],
   "source": [
    "anglebins=np.arange(0, 181., 15.01)\n",
    "speedbins=np.arange(1.,11,2.)"
   ]
  },
  {
   "cell_type": "code",
   "execution_count": null,
   "metadata": {},
   "outputs": [],
   "source": [
    "fig = plt.figure(figsize = (10,5))\n",
    "aux1, ax1 = NX2.polar.setup_plot(fig, 121, maxr=4)\n",
    "aux2, ax2 = NX2.polar.setup_plot(fig, 122, maxr=50)\n",
    "\n",
    "colors = ['r','g','b','k','y','c','orange','r']\n",
    "poldat = my_polar(merged, drift=False, fct=np.mean, speedbins=speedbins, anglebins=anglebins)\n",
    "temp = NX2.polar.plot(aux1, poldat, speedbins, anglebins, color = colors)\n",
    "ax1.set_title('Polardiagram')\n",
    "\n",
    "poldat = my_polar(merged, drift=True, fct=np.mean, speedbins=speedbins, anglebins=anglebins)\n",
    "temp = NX2.polar.plot(aux2, poldat, speedbins, anglebins, color = colors)\n",
    "ax2.set_title('Polardiagram - Drift')\n",
    "\n",
    "ax2.axis[\"left\"].label.set_text(r\"Driftwinkel [$^{\\circ}$]\")"
   ]
  }
 ],
 "metadata": {
  "hide_input": false,
  "kernelspec": {
   "display_name": "Python [conda env:py27]",
   "language": "python",
   "name": "conda-env-py27-py"
  },
  "language_info": {
   "codemirror_mode": {
    "name": "ipython",
    "version": 2
   },
   "file_extension": ".py",
   "mimetype": "text/x-python",
   "name": "python",
   "nbconvert_exporter": "python",
   "pygments_lexer": "ipython2",
   "version": "2.7.16"
  }
 },
 "nbformat": 4,
 "nbformat_minor": 2
}
