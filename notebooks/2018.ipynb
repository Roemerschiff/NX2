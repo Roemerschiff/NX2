{
 "cells": [
  {
   "cell_type": "code",
   "execution_count": null,
   "metadata": {},
   "outputs": [],
   "source": [
    "import os\n",
    "import glob\n",
    "\n",
    "import numpy as np\n",
    "import pandas as pd\n",
    "import seaborn as sns\n",
    "import matplotlib.pyplot as plt\n",
    "import matplotlib\n",
    "%matplotlib inline\n",
    "\n",
    "from read import read_NX2\n",
    "import plot\n",
    "import write"
   ]
  },
  {
   "cell_type": "code",
   "execution_count": null,
   "metadata": {},
   "outputs": [],
   "source": [
    "# Move this into utils files once it's ready to be canned\n",
    "filelist = glob.glob(os.path.join('../data/2018', '*csv'))\n",
    "filelist.sort()"
   ]
  },
  {
   "cell_type": "code",
   "execution_count": null,
   "metadata": {},
   "outputs": [],
   "source": [
    "filelist"
   ]
  },
  {
   "cell_type": "code",
   "execution_count": null,
   "metadata": {},
   "outputs": [],
   "source": [
    "dlist = [read_NX2(f, origin=(49.5851, 10.9703)) \n",
    "         for f in sorted(glob.glob('../data/2018/2018*.csv'))]\n",
    "d18 = pd.concat(dlist)"
   ]
  },
  {
   "cell_type": "markdown",
   "metadata": {},
   "source": [
    "## Ein paar einfache plots nur um mal zu sehen, was denn da so vor sich geht"
   ]
  },
  {
   "cell_type": "code",
   "execution_count": null,
   "metadata": {
    "scrolled": true
   },
   "outputs": [],
   "source": [
    "for d in data:\n",
    "    d.plot_course(scale=20, n=60)"
   ]
  },
  {
   "cell_type": "code",
   "execution_count": null,
   "metadata": {},
   "outputs": [],
   "source": [
    "for i, d in enumerate(data):\n",
    "    d.write_geojson(os.path.join(geojsonpath, '2018', os.path.basename(filelist[i]) + '.geojson'))"
   ]
  },
  {
   "cell_type": "code",
   "execution_count": null,
   "metadata": {
    "scrolled": true
   },
   "outputs": [],
   "source": [
    "plt.plot(data[2]['COG'], data[2]['HDC'])\n",
    "plt.xlabel('COG')\n",
    "plt.ylabel('HDC')"
   ]
  },
  {
   "cell_type": "code",
   "execution_count": null,
   "metadata": {},
   "outputs": [],
   "source": [
    "d = data[2]\n",
    "fit, ind = d.fit_BSP_corr()\n",
    "fit.pprint()\n",
    "plt.plot(d.SOG[~ind], d.BSP[~ind],'y.', label = 'data not used in fit')\n",
    "plt.plot(d.SOG[ind], d.BSP[ind],'k.', label = 'data')\n",
    "plt.plot(plt.xlim(), fit.beta * plt.xlim(), label = 'fit')\n",
    "plt.xlabel('SOG')\n",
    "plt.ylabel('BSP')\n",
    "plt.legend(loc = 'upper left')"
   ]
  },
  {
   "cell_type": "code",
   "execution_count": null,
   "metadata": {},
   "outputs": [],
   "source": [
    "import scipy.odr\n",
    "self = data[2]\n",
    "d = self\n",
    "\n",
    "def line(B, x):\n",
    "    ''' Linear function y = m*x + b '''\n",
    "    return B[0] * x\n",
    "\n",
    "con1 = (self.BSP > 0)  # moving\n",
    "# SOG and BSP have different resonse times -> ignore gradients\n",
    "smoothed = NX2.math.smooth_gauss(self.BSP, 3.)\n",
    "con3 = (abs(np.diff(smoothed)) < 0.01)  # careful! n-1 elements!\n",
    "myl = con3.tolist()\n",
    "myl.append([True])\n",
    "con3 = np.array(myl)\n",
    "ind = con1 & con3\n",
    "linear = scipy.odr.Model(line)\n",
    "mydata = scipy.odr.RealData(self.SOG[ind], self.BSP[ind])\n",
    "myodr = scipy.odr.ODR(mydata, linear, beta0=[1.])\n",
    "fit = myodr.run()\n",
    "\n",
    "fit.pprint()\n",
    "plt.plot(d.SOG[~ind], d.BSP[~ind],'y.', label = 'data not used in fit')\n",
    "plt.plot(d.SOG[ind], d.BSP[ind],'k.', label = 'data')\n",
    "plt.plot(plt.xlim(), fit.beta * plt.xlim(), label = 'fit')\n",
    "plt.xlabel('SOG')\n",
    "plt.ylabel('BSP')\n",
    "plt.legend(loc = 'upper left')"
   ]
  },
  {
   "cell_type": "code",
   "execution_count": null,
   "metadata": {},
   "outputs": [],
   "source": [
    "fig = plt.figure(figsize=(12,6))\n",
    "#fig.canvas.set_window_title('Bootsgeschwindigkeit')\n",
    "ax = fig.add_subplot(211)\n",
    "ax2 = fig.add_subplot(212)\n",
    "\n",
    "sog = ax.plot(d.datetime(), d.AWA, label='AWA')\n",
    "sog = ax.plot(d.datetime(), d.TWA, label='TWA')\n",
    "\n",
    "sog = ax2.plot(d.datetime(), d.AWS, label='AWS')\n",
    "sog = ax2.plot(d.datetime(), d.TWS, label='TWS')\n",
    "\n",
    "for a in [ax, ax2]:\n",
    "    a.xaxis.set_major_formatter(matplotlib.dates.DateFormatter('%H:%M', tz=None))\n",
    "    xlab = a.get_xticklabels()\n",
    "    for label in xlab: label.set_rotation(30)\n",
    "    a.set_xlabel('Uhrzeit')\n",
    "    a.legend()\n",
    "ax2.set_ylabel('Geschwindigkeit [Knoten]')\n",
    "ax.set_ylabel('Winkel')\n"
   ]
  },
  {
   "cell_type": "code",
   "execution_count": null,
   "metadata": {},
   "outputs": [],
   "source": [
    "len(data)dd"
   ]
  },
  {
   "cell_type": "code",
   "execution_count": null,
   "metadata": {},
   "outputs": [],
   "source": [
    "fig = plt.figure(figsize=(12, 12))\n",
    "\n",
    "for i, d in enumerate(data):\n",
    "    fit, ind = d.fit_BSP_corr()\n",
    "    #fit.pprint()\n",
    "    name = os.path.basename(filelist[i][:-7])\n",
    "    print('{}: {}'.format(name, fit.beta))\n",
    "    ax = fig.add_subplot(3, 4, i + 1)\n",
    "    ax.plot(d.SOG[~ind], d.BSP[~ind],'y.', label = 'data not used in fit')\n",
    "    ax.plot(d.SOG[ind], d.BSP[ind],'k.', label = 'data')\n",
    "    ax.plot(plt.xlim(), fit.beta * plt.xlim(), label = 'fit')\n",
    "    ax.set_xlabel('SOG')\n",
    "    ax.set_ylabel('BSP')\n",
    "    #ax.legend(loc = 'upper left')\n",
    "    ax.set_title(name)"
   ]
  },
  {
   "cell_type": "code",
   "execution_count": null,
   "metadata": {},
   "outputs": [],
   "source": [
    "np.sqrt(fit.cov_beta)"
   ]
  },
  {
   "cell_type": "markdown",
   "metadata": {},
   "source": [
    "Vier Fahrten (drei am ersten Tag) haben keine schwarzen (nutzbaren) Punkte, weil der Kompass nicht so lief wie er sollte.\n",
    "\n",
    "Da sehe ich erstmal das das trotz smoothing in einigen Fahrten BSPs > 40 auftreten. Vielleicht was das Grund Kontakt?\n",
    "\n",
    "Die gefitteten Werte fur den Korrekturfaktor sind zwischen 0.8 und 0.9. Im Rahmen der Fehler sage ich jetzt einfach mal 0.85. Wenn ich mir die Zahlen anschaue, dann glaube ich nicht, dass die Unterschiede zwischen den Fahrten relevant sind. Ihr habt das Log also nicht zu doll angeknackst."
   ]
  },
  {
   "cell_type": "markdown",
   "metadata": {},
   "source": [
    "## Jetzt Daten noch mal einlesen, mit Korrekturfaktor"
   ]
  },
  {
   "cell_type": "code",
   "execution_count": null,
   "metadata": {},
   "outputs": [],
   "source": [
    "for d in data:\n",
    "    d.BSP /=0.85"
   ]
  },
  {
   "cell_type": "code",
   "execution_count": null,
   "metadata": {},
   "outputs": [],
   "source": [
    "fig = plt.figure(figsize=(12, 12))\n",
    "for i, d in enumerate(data):\n",
    "    name = os.path.basename(filelist[i][:-7])\n",
    "    ax = fig.add_subplot(4, 3, i + 1)\n",
    "    ax.xaxis.set_major_formatter(matplotlib.dates.DateFormatter('%H:%M', tz=None))\n",
    "    sog = ax.plot(d.datetime(), d.SOG, label='GPS')\n",
    "    bsp = ax.plot(d.datetime(), d.BSP, label='Log - orginal')\n",
    "    xlab = ax.get_xticklabels()\n",
    "    for label in xlab: label.set_rotation(30)\n",
    "    ax.set_xlabel('Uhrzeit')\n",
    "    ax.set_ylabel('Geschwindigkeit [Knoten]')\n",
    "    ax.set_title(name)\n",
    "    #ax.legend()\n",
    "fig.subplots_adjust(hspace=0.5)"
   ]
  },
  {
   "cell_type": "code",
   "execution_count": null,
   "metadata": {},
   "outputs": [],
   "source": [
    "import mpld3\n",
    "\n",
    "fig = data[9].plot_speeds()\n",
    "mpld3.save_html(fig, '../test2018.html')\n",
    "mpld3.display(fig)"
   ]
  },
  {
   "cell_type": "code",
   "execution_count": null,
   "metadata": {},
   "outputs": [],
   "source": [
    "pwd"
   ]
  },
  {
   "cell_type": "code",
   "execution_count": null,
   "metadata": {},
   "outputs": [],
   "source": [
    "for i, d in enumerate(data):\n",
    "    name = os.path.basename(filelist[i][:-7])\n",
    "    fig = plt.figure(figsize=(12, 4))\n",
    "    ax = fig.add_subplot(111)\n",
    "    ax.xaxis.set_major_formatter(matplotlib.dates.DateFormatter('%H:%M', tz=None))\n",
    "    sog = ax.plot(d.datetime(), d.SOG, label='GPS')\n",
    "    bsp = ax.plot(d.datetime(), d.BSP, label='Log - orginal')\n",
    "    xlab = ax.get_xticklabels()\n",
    "    for label in xlab: label.set_rotation(30)\n",
    "    ax.set_xlabel('Uhrzeit')\n",
    "    ax.set_ylabel('Geschwindigkeit [Knoten]')\n",
    "    ax.set_title(name)\n",
    "    ax.legend()\n",
    "    mpld3.save_html(fig, os.path.join(datapath, '2018', 'figures', name + '.html'))\n"
   ]
  },
  {
   "cell_type": "code",
   "execution_count": null,
   "metadata": {},
   "outputs": [],
   "source": []
  }
 ],
 "metadata": {
  "hide_input": false,
  "kernelspec": {
   "display_name": "Python [conda env:NX2]",
   "language": "python",
   "name": "conda-env-NX2-py"
  },
  "language_info": {
   "codemirror_mode": {
    "name": "ipython",
    "version": 3
   },
   "file_extension": ".py",
   "mimetype": "text/x-python",
   "name": "python",
   "nbconvert_exporter": "python",
   "pygments_lexer": "ipython3",
   "version": "3.8.3"
  }
 },
 "nbformat": 4,
 "nbformat_minor": 2
}
