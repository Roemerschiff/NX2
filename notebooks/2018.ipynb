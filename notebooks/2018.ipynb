{
 "cells": [
  {
   "cell_type": "code",
   "execution_count": null,
   "metadata": {},
   "outputs": [],
   "source": [
    "import os\n",
    "import sys\n",
    "import datetime\n",
    "\n",
    "import numpy as np\n",
    "import matplotlib.pyplot as plt\n",
    "import matplotlib\n",
    "\n",
    "# on my computer NX2 is not installed, I just import directly from the development directory\n",
    "sys.path.append(os.path.abspath('../NX2/'))\n",
    "import NX2\n",
    "import NX2.polar\n",
    "import NX2.math\n",
    "sys.path.append(os.path.abspath('.'))\n",
    "import utils\n",
    "\n",
    "%matplotlib inline\n",
    "\n",
    "ENTWURF = False"
   ]
  },
  {
   "cell_type": "code",
   "execution_count": null,
   "metadata": {},
   "outputs": [],
   "source": [
    "datapath = '/home/moritz/Dropbox/NX2/'\n",
    "datapath = '/melkor/d1/guenther/Dropbox/NX2/'\n",
    "plotpath = os.path.join(datapath, '2018/')\n",
    "geojsonpath = '/melkor/d1/guenther/projects/NX2/geojson/'"
   ]
  },
  {
   "cell_type": "code",
   "execution_count": null,
   "metadata": {},
   "outputs": [],
   "source": [
    "from glob import glob"
   ]
  },
  {
   "cell_type": "code",
   "execution_count": null,
   "metadata": {},
   "outputs": [],
   "source": [
    "# Move this into utils files once it's ready to be canned\n",
    "filelist = glob(os.path.join(datapath, '2018', '*csv'))\n",
    "filelist.sort()"
   ]
  },
  {
   "cell_type": "code",
   "execution_count": null,
   "metadata": {},
   "outputs": [],
   "source": [
    "filelist"
   ]
  },
  {
   "cell_type": "code",
   "execution_count": null,
   "metadata": {},
   "outputs": [],
   "source": [
    "data = [NX2.NX2Table(f, utils.date_from_filename(f)) for f in filelist]\n",
    "# Compass data and all related columns are empty in first file (and thus deleted on read-in)\n",
    "for n in ['HDC', 'DFT', 'SET']:\n",
    "    data[0].add_column(n, np.nan)\n",
    "# We don't have a rowfile with that info yet\n",
    "for d in data:\n",
    "    d.add_column('sailing', 0)"
   ]
  },
  {
   "cell_type": "markdown",
   "metadata": {},
   "source": [
    "## Ein paar einfache plots nur um mal zu sehen, was denn da so vor sich geht"
   ]
  },
  {
   "cell_type": "code",
   "execution_count": null,
   "metadata": {
    "scrolled": true
   },
   "outputs": [],
   "source": [
    "for d in data:\n",
    "    d.plot_course(scale=20, n=60)"
   ]
  },
  {
   "cell_type": "code",
   "execution_count": null,
   "metadata": {},
   "outputs": [],
   "source": [
    "for i, d in enumerate(data):\n",
    "    d.write_geojson(os.path.join(geojsonpath, '2018', os.path.basename(filelist[i]) + '.geojson'))"
   ]
  },
  {
   "cell_type": "code",
   "execution_count": null,
   "metadata": {
    "scrolled": true
   },
   "outputs": [],
   "source": [
    "plt.plot(data[2]['COG'], data[2]['HDC'])\n",
    "plt.xlabel('COG')\n",
    "plt.ylabel('HDC')"
   ]
  },
  {
   "cell_type": "code",
   "execution_count": null,
   "metadata": {},
   "outputs": [],
   "source": [
    "d = data[2]\n",
    "fit, ind = d.fit_BSP_corr()\n",
    "fit.pprint()\n",
    "plt.plot(d.SOG[~ind], d.BSP[~ind],'y.', label = 'data not used in fit')\n",
    "plt.plot(d.SOG[ind], d.BSP[ind],'k.', label = 'data')\n",
    "plt.plot(plt.xlim(), fit.beta * plt.xlim(), label = 'fit')\n",
    "plt.xlabel('SOG')\n",
    "plt.ylabel('BSP')\n",
    "plt.legend(loc = 'upper left')"
   ]
  },
  {
   "cell_type": "code",
   "execution_count": null,
   "metadata": {},
   "outputs": [],
   "source": [
    "import scipy.odr\n",
    "self = data[2]\n",
    "d = self\n",
    "\n",
    "def line(B, x):\n",
    "    ''' Linear function y = m*x + b '''\n",
    "    return B[0] * x\n",
    "\n",
    "con1 = (self.BSP > 0)  # moving\n",
    "# SOG and BSP have different resonse times -> ignore gradients\n",
    "smoothed = NX2.math.smooth_gauss(self.BSP, 3.)\n",
    "con3 = (abs(np.diff(smoothed)) < 0.01)  # careful! n-1 elements!\n",
    "myl = con3.tolist()\n",
    "myl.append([True])\n",
    "con3 = np.array(myl)\n",
    "ind = con1 & con3\n",
    "linear = scipy.odr.Model(line)\n",
    "mydata = scipy.odr.RealData(self.SOG[ind], self.BSP[ind])\n",
    "myodr = scipy.odr.ODR(mydata, linear, beta0=[1.])\n",
    "fit = myodr.run()\n",
    "\n",
    "fit.pprint()\n",
    "plt.plot(d.SOG[~ind], d.BSP[~ind],'y.', label = 'data not used in fit')\n",
    "plt.plot(d.SOG[ind], d.BSP[ind],'k.', label = 'data')\n",
    "plt.plot(plt.xlim(), fit.beta * plt.xlim(), label = 'fit')\n",
    "plt.xlabel('SOG')\n",
    "plt.ylabel('BSP')\n",
    "plt.legend(loc = 'upper left')"
   ]
  },
  {
   "cell_type": "code",
   "execution_count": null,
   "metadata": {},
   "outputs": [],
   "source": [
    "fig = plt.figure(figsize=(12,6))\n",
    "#fig.canvas.set_window_title('Bootsgeschwindigkeit')\n",
    "ax = fig.add_subplot(211)\n",
    "ax2 = fig.add_subplot(212)\n",
    "\n",
    "sog = ax.plot(d.datetime(), d.AWA, label='AWA')\n",
    "sog = ax.plot(d.datetime(), d.TWA, label='TWA')\n",
    "\n",
    "sog = ax2.plot(d.datetime(), d.AWS, label='AWS')\n",
    "sog = ax2.plot(d.datetime(), d.TWS, label='TWS')\n",
    "\n",
    "for a in [ax, ax2]:\n",
    "    a.xaxis.set_major_formatter(matplotlib.dates.DateFormatter('%H:%M', tz=None))\n",
    "    xlab = a.get_xticklabels()\n",
    "    for label in xlab: label.set_rotation(30)\n",
    "    a.set_xlabel('Uhrzeit')\n",
    "    a.legend()\n",
    "ax2.set_ylabel('Geschwindigkeit [Knoten]')\n",
    "ax.set_ylabel('Winkel')\n"
   ]
  },
  {
   "cell_type": "code",
   "execution_count": null,
   "metadata": {},
   "outputs": [],
   "source": [
    "len(data)dd"
   ]
  },
  {
   "cell_type": "code",
   "execution_count": null,
   "metadata": {},
   "outputs": [],
   "source": [
    "fig = plt.figure(figsize=(12, 12))\n",
    "\n",
    "for i, d in enumerate(data):\n",
    "    fit, ind = d.fit_BSP_corr()\n",
    "    #fit.pprint()\n",
    "    name = os.path.basename(filelist[i][:-7])\n",
    "    print('{}: {}'.format(name, fit.beta))\n",
    "    ax = fig.add_subplot(3, 4, i + 1)\n",
    "    ax.plot(d.SOG[~ind], d.BSP[~ind],'y.', label = 'data not used in fit')\n",
    "    ax.plot(d.SOG[ind], d.BSP[ind],'k.', label = 'data')\n",
    "    ax.plot(plt.xlim(), fit.beta * plt.xlim(), label = 'fit')\n",
    "    ax.set_xlabel('SOG')\n",
    "    ax.set_ylabel('BSP')\n",
    "    #ax.legend(loc = 'upper left')\n",
    "    ax.set_title(name)"
   ]
  },
  {
   "cell_type": "code",
   "execution_count": null,
   "metadata": {},
   "outputs": [],
   "source": [
    "np.sqrt(fit.cov_beta)"
   ]
  },
  {
   "cell_type": "markdown",
   "metadata": {},
   "source": [
    "Vier Fahrten (drei am ersten Tag) haben keine schwarzen (nutzbaren) Punkte, weil der Kompass nicht so lief wie er sollte.\n",
    "\n",
    "Da sehe ich erstmal das das trotz smoothing in einigen Fahrten BSPs > 40 auftreten. Vielleicht was das Grund Kontakt?\n",
    "\n",
    "Die gefitteten Werte fur den Korrekturfaktor sind zwischen 0.8 und 0.9. Im Rahmen der Fehler sage ich jetzt einfach mal 0.85. Wenn ich mir die Zahlen anschaue, dann glaube ich nicht, dass die Unterschiede zwischen den Fahrten relevant sind. Ihr habt das Log also nicht zu doll angeknackst."
   ]
  },
  {
   "cell_type": "markdown",
   "metadata": {},
   "source": [
    "## Jetzt Daten noch mal einlesen, mit Korrekturfaktor"
   ]
  },
  {
   "cell_type": "code",
   "execution_count": null,
   "metadata": {},
   "outputs": [],
   "source": [
    "for d in data:\n",
    "    d.BSP /=0.85"
   ]
  },
  {
   "cell_type": "code",
   "execution_count": null,
   "metadata": {},
   "outputs": [],
   "source": [
    "fig = plt.figure(figsize=(12, 12))\n",
    "for i, d in enumerate(data):\n",
    "    name = os.path.basename(filelist[i][:-7])\n",
    "    ax = fig.add_subplot(4, 3, i + 1)\n",
    "    ax.xaxis.set_major_formatter(matplotlib.dates.DateFormatter('%H:%M', tz=None))\n",
    "    sog = ax.plot(d.datetime(), d.SOG, label='GPS')\n",
    "    bsp = ax.plot(d.datetime(), d.BSP, label='Log - orginal')\n",
    "    xlab = ax.get_xticklabels()\n",
    "    for label in xlab: label.set_rotation(30)\n",
    "    ax.set_xlabel('Uhrzeit')\n",
    "    ax.set_ylabel('Geschwindigkeit [Knoten]')\n",
    "    ax.set_title(name)\n",
    "    #ax.legend()\n",
    "fig.subplots_adjust(hspace=0.5)"
   ]
  },
  {
   "cell_type": "code",
   "execution_count": null,
   "metadata": {},
   "outputs": [],
   "source": [
    "import mpld3\n",
    "\n",
    "fig = data[9].plot_speeds()\n",
    "mpld3.save_html(fig, '../test2018.html')\n",
    "mpld3.display(fig)"
   ]
  },
  {
   "cell_type": "code",
   "execution_count": null,
   "metadata": {},
   "outputs": [],
   "source": [
    "pwd"
   ]
  },
  {
   "cell_type": "code",
   "execution_count": null,
   "metadata": {},
   "outputs": [],
   "source": [
    "for i, d in enumerate(data):\n",
    "    name = os.path.basename(filelist[i][:-7])\n",
    "    fig = plt.figure(figsize=(12, 4))\n",
    "    ax = fig.add_subplot(111)\n",
    "    ax.xaxis.set_major_formatter(matplotlib.dates.DateFormatter('%H:%M', tz=None))\n",
    "    sog = ax.plot(d.datetime(), d.SOG, label='GPS')\n",
    "    bsp = ax.plot(d.datetime(), d.BSP, label='Log - orginal')\n",
    "    xlab = ax.get_xticklabels()\n",
    "    for label in xlab: label.set_rotation(30)\n",
    "    ax.set_xlabel('Uhrzeit')\n",
    "    ax.set_ylabel('Geschwindigkeit [Knoten]')\n",
    "    ax.set_title(name)\n",
    "    ax.legend()\n",
    "    mpld3.save_html(fig, os.path.join(datapath, '2018', 'figures', name + '.html'))\n"
   ]
  },
  {
   "cell_type": "code",
   "execution_count": null,
   "metadata": {},
   "outputs": [],
   "source": []
  }
 ],
 "metadata": {
  "hide_input": false,
  "kernelspec": {
   "display_name": "Python [default]",
   "language": "python",
   "name": "python2"
  },
  "language_info": {
   "codemirror_mode": {
    "name": "ipython",
    "version": 2
   },
   "file_extension": ".py",
   "mimetype": "text/x-python",
   "name": "python",
   "nbconvert_exporter": "python",
   "pygments_lexer": "ipython2",
   "version": "2.7.16"
  }
 },
 "nbformat": 4,
 "nbformat_minor": 2
}
