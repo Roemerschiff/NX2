{
 "cells": [
  {
   "cell_type": "markdown",
   "metadata": {},
   "source": [
    "# Auswertung: Polardiagramme und Drift im Vergleich"
   ]
  },
  {
   "cell_type": "markdown",
   "metadata": {},
   "source": [
    "## Vorbereitung"
   ]
  },
  {
   "cell_type": "markdown",
   "metadata": {},
   "source": [
    "Hier importieren wir einige Programpakete (z.B. zum Darstellen der Daten), setzen die Pfade, wo die Dateien zu finden sind und laden\n",
    "die Daten von 2006, 2008, 2011 und 2012. Beim Einlesen wird bereits automatisch der Korrkturfaktor für die Geschwindigkeit des Log (BSP), den wir zuvor von Hand bestimmt haben, angewandt."
   ]
  },
  {
   "cell_type": "code",
   "execution_count": null,
   "metadata": {},
   "outputs": [],
   "source": [
    "import glob\n",
    "\n",
    "import numpy as np\n",
    "import pandas as pd\n",
    "import seaborn as sns\n",
    "import matplotlib.pyplot as plt\n",
    "import matplotlib\n",
    "%matplotlib inline\n",
    "\n",
    "from read import read_NX2\n",
    "import plot\n",
    "import write\n",
    "\n",
    "sns.set(style='darkgrid')"
   ]
  },
  {
   "cell_type": "code",
   "execution_count": null,
   "metadata": {},
   "outputs": [],
   "source": [
    "d06 = pd.concat([read_NX2('../data/2006/20060623fifth-day-no-sail.csv', \n",
    "                        origin=(49.0164, 12.0285), corr_bsp=1. / 0.95),\n",
    "                 read_NX2('../data/2006/20060624sixth-day-with-sail.csv', \n",
    "                          origin=(49.0164, 12.0285), corr_bsp=1 / 0.95)])\n",
    "d08 = pd.concat([read_NX2(f, corr_bsp=1. / 1.18) for f in sorted(glob.glob('../data/2008/08*.csv'))])\n",
    "d11 = pd.concat([read_NX2(f, corr_bsp=1. / 0.87) for f in sorted(glob.glob('../data/2011/2011*.csv'))])\n",
    "d12 = pd.concat([read_NX2(f, corr_bsp=1. / 0.87) for f in sorted(glob.glob('../data/2012/2012*.csv'))])"
   ]
  },
  {
   "cell_type": "markdown",
   "metadata": {},
   "source": [
    "### Kontolle der BSP / SOG Korrektur"
   ]
  },
  {
   "cell_type": "code",
   "execution_count": null,
   "metadata": {},
   "outputs": [],
   "source": [
    "a, ind, ax = plot.fit_BSP(d06)\n",
    "print(a)"
   ]
  },
  {
   "cell_type": "code",
   "execution_count": null,
   "metadata": {},
   "outputs": [],
   "source": [
    "a, ind, ax = plot.fit_BSP(d08)\n",
    "print(a)"
   ]
  },
  {
   "cell_type": "code",
   "execution_count": null,
   "metadata": {},
   "outputs": [],
   "source": [
    "a, ind, ax = plot.fit_BSP(d11)\n",
    "print(a)"
   ]
  },
  {
   "cell_type": "code",
   "execution_count": null,
   "metadata": {},
   "outputs": [],
   "source": [
    "a, ind, ax = plot.fit_BSP(d12)\n",
    "print(a)"
   ]
  },
  {
   "cell_type": "markdown",
   "metadata": {},
   "source": [
    "Hier vergleichen wir die SOG mit der BSP.\n",
    "In dieser Grafik sieht man alle Datenpunkte, die wir für je ein Jahr geladen haben (wir berücksichtigen hier nur die letzten beiden Tage der Messfahrten in 2006, weil wir nur an diesen beiden Tagen gesegelt sind). Die blaue Wolke zeigt alle Daten, die schwarzen Punkte nur die Daten, die zur Kalibration des Log geeignet sind. Dafür verlangen wir, dass\n",
    "\n",
    "- die Richtung der Bewegnung über Grund (vom GPS) und die Richtung, in die der Bug zeigt, übereinstimmen, weil es in dieser Position die Drift keine Rolle spielt.\n",
    "- die Geschwindigkeit > 0.4 kn ist, weil bei Geschwindigkeiten unter dieser Schwelle das Log noch nicht arbeitet.\n",
    "- die Geschwindigkeit des Schiff sich in diesem Zeitraum nur wenig geändert hat (Aus technischen Gründen hinkt die SOG der BSP immer etwas hinterher. Messungen, die z.B. beim Aufstoppen aufgenommen wurden, sind daher fur die Logkalibration nicht geeignet).\n",
    "\n",
    "Die rote Linie zeigt einen Fit durch die schwarzen Punkte."
   ]
  },
  {
   "cell_type": "markdown",
   "metadata": {},
   "source": [
    "Wenn man die Grafiken für die Daten aus jedem einzelnen Jahr anschaut, dann sieht man, dass die Korrekturfaktoren für die BSP (\"boat speed\" - Geschwindigkeit mit dem Log gemessen) offensichtlich gut gewählt sind und wir ab jetzt die BSP für alle Winkel verwenden konnen, um Polardiagramme zu erzeugen."
   ]
  },
  {
   "cell_type": "markdown",
   "metadata": {},
   "source": [
    "## Polardiagramme"
   ]
  },
  {
   "cell_type": "markdown",
   "metadata": {},
   "source": [
    "### Filtern der Daten"
   ]
  },
  {
   "cell_type": "markdown",
   "metadata": {},
   "source": [
    "Bevor wir die Daten zu Polardiagrammen zusammenstellen, müssen wir sie filtern, denn nicht jeder Datenpunkt kann dafür genutzt werden. In diesem Abschnitt untersuchen wir, welche Filter sinnvoll sind. Die verschiedenen Filter, die wir auf die Daten anwenden, sollen verschiedene Effekte berücksichtigen: Zuerst beschränken wir uns auf die Messpunkte, die beim Segeln ohne Hilfe der Ruderer aufgenommen wurden. Dann verlangen wir, dass die Geschwindikgeit sich nur langsam ändert, denn wenn z.B. der Bug in den Wind gedreht wird, dann hat das Schiff zunächst noch eine Geschwindigkeit, die aber schnell abnimmt. Das bedeutet nicht, das wir gegen den Wind segeln können, sondern nur dass die Daten, die direkt nach einer Richtungsänderung, direkt nach dem Hissen des Segels oder in einer Windböhe aufgenommen wurden, herausgefiltert werden müssen. Außerdem ändert sich der Wind sehr viel schneller, als das Schiff seine Geschwindigkeit anpassen kann. Deshalb glätten wir die Windgeschwindigkeit etwas, um diesen Effekt auszugleichen. Dafür wählen wir eine Funktion, die nur vorausgegangene, aber nicht zukünftige Messwerte verwendet; deshalb erscheinen die Maxima im geglätteten Wind immer etwas später. Die nächste Grafik zeigt ein Beispiel dafür."
   ]
  },
  {
   "cell_type": "code",
   "execution_count": null,
   "metadata": {},
   "outputs": [],
   "source": [
    "dplot = d11['2011-05-02 14:36:18':'2011-05-02 14:39:42']\n",
    "ax = dplot.plot(y=['TWS', 'TWS_s'])\n",
    "ax.legend(['gemessener Wind', 'gegl\\u00e4tteter Wind'])\n",
    "ax.set_xlabel('Zeit')\n",
    "ax.set_ylabel('Windgeschwindigkeit [Knoten]')"
   ]
  },
  {
   "cell_type": "markdown",
   "metadata": {},
   "source": [
    "In der nachsten Grafik schauen wir uns den Winkel zum Wind an. Dabei bedeutet $0^{\\circ}$, das die Galeere \"im Wind\" steht (der Bug in den Wind zeigt), während $180^{\\circ}$ meint, das der Wind von achtern kommt und die Galeere \"vor dem Wind\" segelt. Das Vorzeichen kann dabei positiv oder negativ sein, je nachdem ob der Wind von Steuerbord oder von Backbord kommt. \n",
    "Durch diese Skala kann es bei achterlichem Wind zu scheinbaren Spüngen kommen (z. B. um 14:36:45 in the Grafik), wenn der Wind von $+179^{\\circ}$ zu $-179^{\\circ}$ wechselt. Da wir in der folgenden Analyse nicht zwischen Backbord und Steuerbord unterscheiden, genügt es, den Betrag des Windwinkels zu betrachten und so das Problem zu vermeiden. Außerdem sieht man in der Grafik, dass die gemessene Windrichtung sehr schnell hin- und herspringt, weil der Windmesser im Wind flattert. Dies ist besonders bei schwachen Wind der Fall und bei Wind vom Bug, wenn das Segel den Windmesser abdeckt. Der Windmesser ist zwar mit einem \"twin fin\" System ausgestattet, dass ein Hin-und Herflattern vermeiden soll, aber die gemessene Windrichtung schwankt immer noch im Sekundenbereich. Wenn wir dies nicht berücksichtigen, dann werden bei der Konstruktion eines Polardiagrams viele Messwerte bei unpassenden Windwinkeln einsortiert. \n",
    "Deshalb glätten wir auch die Windrichtung."
   ]
  },
  {
   "cell_type": "code",
   "execution_count": null,
   "metadata": {},
   "outputs": [],
   "source": [
    "ax = dplot.plot(y=['TWA', 'absTWA', 'absTWA_s'])\n",
    "ax.legend(['Windwinkel', 'Betrag des Winkels', 'gegl\\u00e4tteter Winkel'])\n",
    "ax.set_xlabel('Zeit')\n",
    "ax.set_ylabel('Winkel zum Wind [Grad]')"
   ]
  },
  {
   "cell_type": "markdown",
   "metadata": {},
   "source": [
    "Um sinnvolle Parameter zum Filtern zu finden und zu zeigen, wie sich die einzelnen Filter auswirken, verwende ich im Folgenden den Datensatz von 2011 als Beispiel."
   ]
  },
  {
   "cell_type": "code",
   "execution_count": null,
   "metadata": {},
   "outputs": [],
   "source": [
    "sail = (d11['Segel_s'] > .7) & (d11['row_s'] < 0.01)\n",
    "\n",
    "d11['BSP_diff_s'] = np.abs(d11['BSP'].diff().rolling(20, center=True, win_type='triang').mean())\n",
    "con = d11['BSP_diff_s'] < 0.02\n",
    "conTWA = np.abs(d11['absTWA_s'].diff()) < 1.0"
   ]
  },
  {
   "cell_type": "markdown",
   "metadata": {},
   "source": [
    "Hier schauen wir mal, wie viele Punkte eigentlich noch übrig bleiben, wenn die oben definierten Filter angewendet werden."
   ]
  },
  {
   "cell_type": "code",
   "execution_count": null,
   "metadata": {},
   "outputs": [],
   "source": [
    "print('Anzahl Datenpunkte mit Segel und ohne Ruder', sail.sum())\n",
    "print('zusätzliche Bedingung: Fast konstante Geschwindigkeit', (sail & con).sum())\n",
    "print('zusätzliche Bedingung: Fast konstanter Windwinkel', (sail & con & conTWA).sum())"
   ]
  },
  {
   "cell_type": "code",
   "execution_count": null,
   "metadata": {},
   "outputs": [],
   "source": [
    "def make_polar(df, anglebins=np.arange(0, 181., 15.01),\n",
    "               speedbins=np.arange(1., 16., 3.),\n",
    "               anglecol='absTWA_drift_s', speedcol='TWS_s'):\n",
    "    df['ang_bin'] = pd.cut(df[anglecol], anglebins)\n",
    "    df['v_bin'] = pd.cut(df[speedcol], speedbins)\n",
    "    df['BSP_diff_s'] = np.abs(df['BSP'].diff().rolling(20, center=True,\n",
    "                                                       win_type='triang').mean())\n",
    "    dp = df.loc[(df['Segel'] > 0.7) &\n",
    "                (df['row_s'] < 0.01) &\n",
    "                (np.abs(df['BSP_diff_s'].diff()) < 0.02) &\n",
    "                (np.abs(df['absTWA_s'].diff()) < 1.)]\n",
    "    polar = dp.groupby(['ang_bin', 'v_bin'])\n",
    "    return polar, dp"
   ]
  },
  {
   "cell_type": "code",
   "execution_count": null,
   "metadata": {},
   "outputs": [],
   "source": [
    "dp = d11[sail & con & conTWA]\n",
    "dp.plot('absTWA_s', 'bearingdiff', c='SOG', kind='scatter',\n",
    "        colorbar=True, colormap='viridis')\n",
    "dp.plot('absTWA_drift_s', 'bearingdiff', c='SOG', kind='scatter',\n",
    "        colorbar=True, colormap='viridis')"
   ]
  },
  {
   "cell_type": "markdown",
   "metadata": {},
   "source": [
    "Alle Punkte mit Segel und ohne Rudern:"
   ]
  },
  {
   "cell_type": "code",
   "execution_count": null,
   "metadata": {},
   "outputs": [],
   "source": [
    "d11['ang_bin'] = pd.cut(d11['absTWA_s'], np.arange(0, 181., 30.0001))\n",
    "d11['v_bin'] = pd.cut(d11['TWS_s'], np.arange(0., 16.1, 4.))"
   ]
  },
  {
   "cell_type": "code",
   "execution_count": null,
   "metadata": {},
   "outputs": [],
   "source": [
    "dp = d11.loc[sail]\n",
    "g = sns.FacetGrid(dp, col='ang_bin', row='v_bin', margin_titles=True, sharey=False)\n",
    "bins = np.arange(0, 8, .5)\n",
    "g.map(plt.hist, 'BSP', bins=bins)"
   ]
  },
  {
   "cell_type": "markdown",
   "metadata": {},
   "source": [
    "Man sieht schon, dass (außer in der letzten Zeile, wo wir einfach sehr wenige Daten haben) die meisten Verteilungen sehr gut um einen Mittelwert herum liegen. Allerdings sind manche Verteilungen noch so breit, dass man sieht, dass die Werte etwas gefilteret werden müssen. In der nächsten Grafik verweden wir nun die geglätteten Werte für Windgeschwindikeit und -winkel. Außerdem filtern wir die Zeiten heraus, bei denen sich die Bootsgeschwindigkeit oder der Windwinkel schnell ändern. Dabei ist es schwer, genau zu definieren, an welcher Stelle man hier abschneiden soll. Ich habe die Werte so gewählt, das nur die wirklich extremen Werte (wenn zum Beispiel eine enge Kurve gesegelt wird) herausgenommen werden. "
   ]
  },
  {
   "cell_type": "code",
   "execution_count": null,
   "metadata": {},
   "outputs": [],
   "source": [
    "dp = d11.loc[sail & con & conTWA]\n",
    "g = sns.FacetGrid(dp, col='ang_bin', row='v_bin', margin_titles=True, sharey=False)\n",
    "bins = np.arange(0, 8, .5)\n",
    "g.map(plt.hist, 'BSP', bins=bins)"
   ]
  },
  {
   "cell_type": "code",
   "execution_count": null,
   "metadata": {},
   "outputs": [],
   "source": [
    "d11['ang_bin'] = pd.cut(d11['absTWA_drift_s'], np.arange(0, 181., 30.0001))\n",
    "d11['v_bin'] = pd.cut(d11['TWS_s'], np.arange(0., 16.1, 4.))\n",
    "dp = d11.loc[sail & con & conTWA]\n",
    "g = sns.FacetGrid(dp, col='ang_bin', row='v_bin', margin_titles=True, sharey=False)\n",
    "bins = np.arange(0, 8, .5)\n",
    "g.map(plt.hist, 'BSP', bins=bins)"
   ]
  },
  {
   "cell_type": "markdown",
   "metadata": {},
   "source": [
    "Die Grafik sieht im wesentlichen noch so ähnlich aus wie darüber. Einige der Verteilungen sind etwas schmaler geworden, aber laut dieser Grafik segeln wir immer noch manchmal gegen den Wind. Das haben wir so aber nie direkt beobachtet. Offensichtlich sind die Filter also noch nicht richtig eingestellt. Deshalb schauen wir jetzt mal ein paar der fraglichen Phasen an, um zu verstehen, was da passiert ist."
   ]
  },
  {
   "cell_type": "code",
   "execution_count": null,
   "metadata": {},
   "outputs": [],
   "source": [
    "d11.plot('absTWA', 'absTWA_drift', kind='hexbin')"
   ]
  },
  {
   "cell_type": "code",
   "execution_count": null,
   "metadata": {
    "scrolled": true
   },
   "outputs": [],
   "source": [
    "df = d11['2011-05-05 16:56:36+0200': '2011-05-05 17:13:40+0200']\n",
    "ax = plot.speeds(df, figsize=(11, 4))"
   ]
  },
  {
   "cell_type": "code",
   "execution_count": null,
   "metadata": {
    "scrolled": true
   },
   "outputs": [],
   "source": [
    "ax = df.plot(y=['BSP_diff_s'], figsize=(11, 4))"
   ]
  },
  {
   "cell_type": "code",
   "execution_count": null,
   "metadata": {},
   "outputs": [],
   "source": [
    "df.plot(y=['absTWA_drift', 'absTWA_drift_s'])"
   ]
  },
  {
   "cell_type": "code",
   "execution_count": null,
   "metadata": {},
   "outputs": [],
   "source": [
    "ax = df.plot(y=['TWA', 'TWA_drift', 'absTWA', 'absTWA_drift', \n",
    "                'HDC', 'COG', 'bearingdiff'], figsize=(15, 6))\n",
    "ax.legend(['TWA', 'TWA_drift', 'absTWA', 'abs_TWA_drift',\n",
    "           'Kompasskurs', 'Kurs über Grund', 'Drift Winkel'],\n",
    "         bbox_to_anchor=(1.05, 1.))\n",
    "ax.set_xlabel(\"Uhrzeit\")\n",
    "#ax.set_ylim(-20, +120)\n",
    "out = ax.set_ylabel(\"Winkel\")"
   ]
  },
  {
   "cell_type": "markdown",
   "metadata": {},
   "source": [
    "In diesem Beispiel sind die fraglichen Werte im ersten Drittel und im zweiten Drittel der Grafik zu finden, ca 17:00-17:03 und 17:06-17:10. Auf dem obersten Plot sieht man da nichts Ungewöhnliches, wenn man sich die mit dem Log und die mit dem GPS gemessene Geschwindigkeit anschaut. Auf der nächsten Grafik (direkt über diesem Text) zeigen wir den Kurs über Grund (vom GPS) und den Kompasskurs, sowie die Drift (die Differenz dieser beiden Werte). Zur fraglichen Zeit ist das Schiff deutlich abgedriftet mit einem Driftwinkel um $30^{\\circ}$. Zur Kontrolle sind auf der nachsten Grafik die Kurse zum fraglichen Zeitpunkt dargestellt. Dort sieht man deutlich, dass die nominelle Fahrt im Wasser (die Richtung, in die der Bug des Schiffes zeigt - schwarze Pfeile) und die wahre Bewegungsrichtung des Schiffs, die das GPS aufzeichnet (blaue Pfeile) sich unterscheiden. Der nominelle Kurs ist am Wind, aber unter Berücksichtigung der Drift erreichen wir in Wirklichkeit nur \"halben Wind\" (rechter Winkel zwischen grünen und blauen Pfeilen). "
   ]
  },
  {
   "cell_type": "code",
   "execution_count": null,
   "metadata": {},
   "outputs": [],
   "source": [
    "df.plot(y=['COG', 'HDC', 'bearingdiff'])"
   ]
  },
  {
   "cell_type": "code",
   "execution_count": null,
   "metadata": {},
   "outputs": [],
   "source": [
    "ax = plot.course(df, scale=4, n=30)"
   ]
  },
  {
   "cell_type": "markdown",
   "metadata": {},
   "source": [
    "Möglicherweise hat der Steuermann hier den Kurs nicht optimal eingestellt und ein Teil der Drift könnte verhindert werden, wenn der Bug des Schiffs nicht in den Wind gestellt wird. Wenn der Bug in den Wind zeigt, dann wird die Drift größer (siehe nächste Grafik, mehr Details unten im Kapitel Drift) ohne dass das Schiff tatsächlich in den Wind navigieren könnte.  Im Folgenden werden wir die wahre Bewegungsrichtung im Wasser betrachten, nicht die Richtung, in die der Bug zeigt. Moderne Schiffe haben normalerweise einen Kiel und die Abdrift ist klein. Auch werden sie bei solchen Tests in der Regel \"ideal\" gesegelt, also so, dass die größtmögliche Geschwindigkeit erreicht wird. In den Versuchen zu römischen Kriegsschiffen ist das nicht gegeben, weil wir vom ersten Fahrtag an Messwerte aufgezeichnet haben und die verschiedenen Schiffsführer zunächst nicht mit den Besonderheiten dieser Schiffe vertraut waren (da fast 2000 Jahre vergangen sind, seit die Römer diese Schiffe gesegelt haben)."
   ]
  },
  {
   "cell_type": "markdown",
   "metadata": {},
   "source": [
    "**OK, es sind immer noch einige Punkte übrig, die bei kleinen Winkeln und positiven Geschwindigkeiten liegen, aber nicht mehr viele.** Das mache ich iterativ so lange, bis alles, das ich nicht glaube, weggefiltert ist. Dabei habe ich folgende Punkte erkannt und gelöst:\n",
    "\n",
    "  - Am Anfang habe ich nur für das Segeln die ersten und letzten ca. 1.5 min ignoriert, weil in dieser Zeit ja das Segel erst mal gesetzt und ausgerichtet werden muss (bzw. quer gestellt und eingeholt). Ich habe ausserdem festgestellt, dass viele der fraglischen Bereiche direkt vor oder hinter einem Ruderabschnitt liegen. Hier können wir nicht auschließen, das da vielleicht schon ein \"Halt Wasser\" gegeben wurde oder die Ruderer ihrer Rimen ins Wasser getaucht haben, um sie besser in die Dollen einhängen zu können. Dashalb filtern wir nun auch Bereiche kurz vor oder nach dem Rudern (ca 1.5 min) heraus.\n",
    "  - Ich haben den Filter, der prüft, ob die Schifftgeschwindigkeit sich nicht schnell ändert verschärft. Ein guter Wert, um wirklich alle fraglichen Bereuche herauszufiltern, ist eine maximale Änderung von 0.005 pro Sekunde, aber bei einer solchen Bedingung werden auch viele brauchbare Werte verworfen. Als Kompromiss schlage ich jetzt 0.007 als Grenzwert vor.\n",
    "\n",
    "Wie man oben sieht, bleiben aber selbst im Bereich 30-60 Grad noch einige Punkte übrig. Ich gebe zu bedenken, dass diese alle zu sehr niedrigen BSP gehören, also verträglich mit der Beobachtung \"kein Vortrieb\" sind. Unten suche ich noch mal die fraglichen Bereiche heraus."
   ]
  },
  {
   "cell_type": "markdown",
   "metadata": {},
   "source": [
    "Nun können wir iterativ uns anschauen, welche Datenpunkte nicht herausgefiltert sind, die eine signifikante Geschwindigkeit nach vorn zeigen."
   ]
  },
  {
   "cell_type": "code",
   "execution_count": null,
   "metadata": {},
   "outputs": [],
   "source": [
    "df = d11['2011-05-04 19:01:04+0200': '2011-05-04 19:09:36+0200']\n",
    "ax = plot.speeds(df)"
   ]
  },
  {
   "cell_type": "code",
   "execution_count": null,
   "metadata": {},
   "outputs": [],
   "source": [
    "ax = df.plot(y=['BSP_diff_s'])"
   ]
  },
  {
   "cell_type": "code",
   "execution_count": null,
   "metadata": {},
   "outputs": [],
   "source": [
    "ax = plot.course(df, n=30, scale=5)"
   ]
  },
  {
   "cell_type": "code",
   "execution_count": null,
   "metadata": {},
   "outputs": [],
   "source": [
    "ax = df.plot(y=['HDC', 'COG', 'bearingdiff'])\n",
    "ax.legend(['Kompasskurs', 'Kurs über Grund', 'Drift Winkel'])\n",
    "ax.set_xlabel(\"Uhrzeit\")\n",
    "ax.set_ylabel(\"Winkel\")"
   ]
  },
  {
   "cell_type": "markdown",
   "metadata": {},
   "source": [
    "Wenn ich mir das anschaue (der fragliche Punkt ist um 19:03:24 Uhr), dann ändert sich die Geschwindigkeit hier schnell, aber gerade zwischen 19:03 und 19:04 gibt es noch mal ein lokales Maximum, wo dann die lokare Änderung null ist. Meiner Meinung nach ist das ein pathologischer Fall und ich habe keine gute Idee, wie man solche Punkte auch noch erwischt, ohne zu viele brauchbare Punkte mit zu verwerfen."
   ]
  },
  {
   "cell_type": "markdown",
   "metadata": {},
   "source": [
    "### Vergleich der Jahre 2006, 2008, 2011 und 2012"
   ]
  },
  {
   "cell_type": "markdown",
   "metadata": {},
   "source": [
    "Hier zeige ich einen Überblick von Polardiagrammen. Fur jeden Datensatz erzeuge ich die gleichen Diagramme. Die Daten, die in diese Polardiagramme hineingehen, sind wie oben beschrieben gefiltert.\n",
    "\n",
    "1. Das linke Diagram benutzt in jedem Bin den Median, da der von den nicht gefilterten Ausreissern nicht so stark beeinflusst wird.\n",
    "2. Das mittelere Diagram bildet den Mittelwert.\n",
    "3. Das rechte Diagram zeigt den Logarithmus zur Basis 10 der Anzahl der Werte in jedem Bin."
   ]
  },
  {
   "cell_type": "code",
   "execution_count": null,
   "metadata": {},
   "outputs": [],
   "source": [
    "speedbins=np.arange(1.5,16,3.)\n",
    "\n",
    "mk_polar = make_polar\n",
    "# mk_polar = plots.make_polar\n",
    "\n",
    "kwdrift = {'speedbins': speedbins, 'anglecol': 'absTWA_s'}\n",
    "p06, dp06 = mk_polar(d06, **kwdrift)\n",
    "p08, dp08 = mk_polar(d08, **kwdrift)\n",
    "p11, dp11 = mk_polar(d11, **kwdrift)\n",
    "p12, dp12 = mk_polar(d12, **kwdrift)\n",
    "\n",
    "p06corr, dp06 = mk_polar(d06, speedbins=speedbins)\n",
    "p08corr, dp08 = mk_polar(d08, speedbins=speedbins)\n",
    "p11corr, dp11 = mk_polar(d11, speedbins=speedbins)\n",
    "p12corr, dp12 = mk_polar(d12, speedbins=speedbins)"
   ]
  },
  {
   "cell_type": "code",
   "execution_count": null,
   "metadata": {},
   "outputs": [],
   "source": [
    "def polar3(df, dfcorr=None, col='BSP'):\n",
    "    fig, axes = plt.subplots(ncols=3, subplot_kw={'polar': True}, figsize = (13,7))\n",
    "    ax1 = plot.polar(df.median()[col].unstack(), ax=axes[0],\n",
    "                     labeltext='{:4.1f}-{:4.1f} kn')\n",
    "    ax2 = plot.polar(df.mean()[col].unstack(), ax=axes[1],\n",
    "                     labeltext='{:4.1f}-{:4.1f} kn')\n",
    "    ax3 = plot.polar(np.log10(df.count()['BSP'].unstack()),\n",
    "                     ax=axes[2], labeltext='{:4.1f}-{:4.1f} kn')\n",
    "    if not dfcorr is None:\n",
    "        ax1.set_prop_cycle(None)\n",
    "        ax1 = plot.polar(dfcorr.median()[col].unstack(), ax=axes[0],\n",
    "                         labeltext='__no_legend__', lw=3)\n",
    "        ax2.set_prop_cycle(None)\n",
    "        ax2 = plot.polar(dfcorr.mean()[col].unstack(), ax=axes[1],\n",
    "                         labeltext='__no_legend__', lw=3)\n",
    "        \n",
    "    ax1.set_title('Polardiagram - Median')\n",
    "    ax2.set_title('Polardiagram - Mean')\n",
    "    ax3.set_title ('Log10(Anzahl Datenpunkte per bin)')\n",
    "    ax1.legend(loc='upper left')"
   ]
  },
  {
   "cell_type": "code",
   "execution_count": null,
   "metadata": {},
   "outputs": [],
   "source": [
    "polar3(p06, p06corr)"
   ]
  },
  {
   "cell_type": "code",
   "execution_count": null,
   "metadata": {},
   "outputs": [],
   "source": [
    "polar3(p08, p08corr)"
   ]
  },
  {
   "cell_type": "code",
   "execution_count": null,
   "metadata": {},
   "outputs": [],
   "source": [
    "polar3(p11, p11corr)"
   ]
  },
  {
   "cell_type": "code",
   "execution_count": null,
   "metadata": {},
   "outputs": [],
   "source": [
    "polar3(p12, p12corr)"
   ]
  },
  {
   "cell_type": "markdown",
   "metadata": {},
   "source": [
    "**Drift correction seems to work for 08 and 11, but not for 06 and 12. Why?**\n",
    "Same strange stuff around 90 deg happened before, but I did not notice, because I did not compare the two as closely. Yeah for better plotting?"
   ]
  },
  {
   "cell_type": "markdown",
   "metadata": {},
   "source": [
    "Fur die Geschwindigkeiten unter 6 kn sehen die Grafiken allesamt relativ gut aus. Bei stärkerem Wind haben wir einfach zu wenig Datenpunkte, um wirklich viel aussagen zu konnen. Bei schwachem Wind konnte man die Unterteilung vermutlich sogar noch etwas feiner machen, allerdings kann man das dann nicht mehr gut mit 2006 vergleichen, wo wir in der Tat nur eine sehr kurze Messzeit hatten."
   ]
  },
  {
   "cell_type": "markdown",
   "metadata": {},
   "source": [
    "Zu besseren Vergleichbarkeit werden nun die Polardigramme aller Messjahre für jeweils eine bestimmte Geschwindigkeit übereinander dargestellt."
   ]
  },
  {
   "cell_type": "code",
   "execution_count": null,
   "metadata": {},
   "outputs": [],
   "source": [
    "pol06 = p06corr.mean()['BSP'].unstack()\n",
    "pol08 = p08corr.mean()['BSP'].unstack()\n",
    "pol11 = p11corr.mean()['BSP'].unstack()\n",
    "pol12 = p12corr.mean()['BSP'].unstack()\n",
    "\n",
    "fig, axes = plt.subplots(ncols=4, subplot_kw={'polar': True}, figsize = (14, 5))\n",
    "\n",
    "for i, col in enumerate(pol06.columns):\n",
    "    for df in [pol06, pol08, pol11, pol12]:\n",
    "        plot.polar(df.iloc[:, i].to_frame(), ax=axes[i])\n",
    "    axes[i].legend(['2006', '2008','2011','2012'], loc='upper left')\n",
    "    axes[i].set_title('TWS ca. '+ str(col.mid) + ' kn')"
   ]
  },
  {
   "cell_type": "markdown",
   "metadata": {},
   "source": [
    "Ich lese hier ab, dass die Lusoria Regina am langsamsten ist. Das kann natürlich verschiedene Gründe haben, einer davon ist, dass wir 2006 noch nicht so gut Segeln konnten und nicht das beste aus dem Schiff herausgeholt haben...\n",
    "Es scheint auch so zu sein, dass wir 2012 tendenziell etwas schneller waren als 2011. Vielleicht hat sich das das größere Segel ausgewirkt. Andererseits ist der Unterschied nicht besonders gross und ich bin wir nicht sicher, das sich die beiden Verteilungen statistisch signifikant unterscheiden (Das könnte man natürlich mit einem KS-Test prüfen, wenn wir das wollen). Für das Buch würde ich die Plots vielleicht auch doch wieder mit breiteren bins machen.\n",
    "\n",
    "Was liest du hier noch ab?"
   ]
  },
  {
   "cell_type": "markdown",
   "metadata": {},
   "source": [
    "Ich habe auch mal die Bücher aufgeschlagen und versucht diese neuen Kurven mit dem zu vergleichen, was schon gedruckt ist. Da scheint es mir (auch wenn wir in IDL etwas andere bins verwendet haben), dass die neue Auswertung immer etwas schneller ist. Woran mag das liegen? Haben wir damals die BSP Kalibration nicht so gut im Griff gehabt? Ich dachte immer, das ware einer der schwachsten Punkte in der Analyse, wahrend hier der Vergleich (s. oben) ja zeigt, das wir dieses Problem nun gelöst haben. Wir finde ich das am besten heraus, wo der Unterschied herkommt?"
   ]
  },
  {
   "cell_type": "markdown",
   "metadata": {},
   "source": [
    "## Drift"
   ]
  },
  {
   "cell_type": "code",
   "execution_count": null,
   "metadata": {},
   "outputs": [],
   "source": [
    "polar3(p06, col='absbearingdiff')"
   ]
  },
  {
   "cell_type": "code",
   "execution_count": null,
   "metadata": {},
   "outputs": [],
   "source": [
    "polar3(p08, col='absbearingdiff')"
   ]
  },
  {
   "cell_type": "code",
   "execution_count": null,
   "metadata": {},
   "outputs": [],
   "source": [
    "g = sns.FacetGrid(dp, col='ang_bin', row='v_bin', margin_titles=True)\n",
    "bins = np.arange(0, 90, 10)\n",
    "g.map(plt.hist, 'bearingdiff', bins=bins)"
   ]
  },
  {
   "cell_type": "code",
   "execution_count": null,
   "metadata": {},
   "outputs": [],
   "source": [
    "polar3(p11, col='absbearingdiff')"
   ]
  },
  {
   "cell_type": "code",
   "execution_count": null,
   "metadata": {},
   "outputs": [],
   "source": [
    "polar3(p12, col='absbearingdiff')"
   ]
  },
  {
   "cell_type": "code",
   "execution_count": null,
   "metadata": {},
   "outputs": [],
   "source": [
    "pol06bear = p06.mean()['absbearingdiff'].unstack()\n",
    "pol08bear = p08.mean()['absbearingdiff'].unstack()\n",
    "pol11bear = p11.mean()['absbearingdiff'].unstack()\n",
    "pol12bear = p12.mean()['absbearingdiff'].unstack()\n",
    "\n",
    "fig, axes = plt.subplots(ncols=4, subplot_kw={'polar': True}, figsize = (14, 5))\n",
    "\n",
    "for i, col in enumerate(pol06.columns):\n",
    "    for df in [pol06bear, pol08bear, pol11bear, pol12bear]:\n",
    "        plot.polar(df.iloc[:, i].to_frame(), ax=axes[i])\n",
    "    axes[i].legend(['2006', '2008','2011','2012'], loc='lower left')\n",
    "    axes[i].set_title('TWS ca. '+ str(col.mid) + ' kn')\n",
    "    axes[i].set_ylim(0, 50.)"
   ]
  },
  {
   "cell_type": "markdown",
   "metadata": {},
   "source": [
    "## Vergleich mit Widerstandsmessungen im Tank"
   ]
  },
  {
   "cell_type": "code",
   "execution_count": null,
   "metadata": {},
   "outputs": [],
   "source": [
    "fig = plt.figure()\n",
    "ax = fig.add_subplot(111)\n",
    "\n",
    "for df in [pol06, pol08, pol11, pol12]:\n",
    "    ax.plot(np.hstack(([0], df.to_numpy()[-1, :])),\n",
    "            [0] + [k.mid for k in df.keys()])\n",
    "\n",
    "ax.legend(['2006', '2008','2011','2012'], loc='upper left')\n",
    "ax.set_xlabel(u'Fahrt über Grund [Knoten]')\n",
    "ax.set_ylabel('Windgeschwindigkeit [Knoten]')\n",
    "out = ax.set_title('Wasserwiderstand')\n",
    "out = ax"
   ]
  },
  {
   "cell_type": "code",
   "execution_count": null,
   "metadata": {},
   "outputs": [],
   "source": [
    "# Somehow te fact that pandas functions are called in the cell above means that \n",
    "# that the figure is not displayed automatically. So we do it in another cell.\n",
    "out = ax"
   ]
  },
  {
   "cell_type": "markdown",
   "metadata": {},
   "source": [
    "Nun vergleichen wir die am Nachbau gemessenen Geschwindigkeiten mit den Widerstandsmessungen am Model im Tank zu vergleichen (siehe Kapitel von XXX in diesem Band). Im Tank werden die Modelle bei definierter Geschwindigkeit bewegt und die dazu notwendige Kraft gemessen. Am Nachbau kennen wir die Kraft, die auf das Schiff wirkt, nicht genau, aber die Kraft, die das Schiff beim Segeln antreibt, ist in etwa proportional zur Windgeschwindigkeit. Die dargestellten Werte sind alle bei Wind von achtern gemessen. In dieser Position ist es leicht, das Segel optimal einzustellen. \n",
    "Für alle von Wasser umströmten Objekte gilt, dass die benötigte Kraft exponentiell mit der Geschwindigkeit steigt und in den Messungen der Schiffbauversuchsanstalt in Potsdam wurde dies auch für alle getesteten Modelle römischer Kriegsschiffe bestätigt. In der Grafik ist dieser Zusammenhang nicht gut zu erkennen, weil die gemessenen Geschwindigkeiten relativ klein sind und von den bereits diskutierten Messungenauigkeiten beeinflusst werden. Die Daten der Schiffsbauversuchsanstalt zeigen zun Beispiel, dass für das Schiff vom Typ Oberstimm (2008) nur eine Kraft von 0,22 kN benötigt wird, um 4 kn zu erreichen, während 1 kN für 8,0 kn erforderlich ist. So schnell sind wir aber im Experiment nie gesegelt (der Mast brach, bevor diese Geschwindigkeit erreicht werden konnte). Andererseits stimmen die am Nachbau gemessenen Werte qualitativ gut mit den Widerstandsmessungen am verkleinerten Modell im Tank überein. Bei einer Geschwindigkeit von 3 kn ergibt der Versuch im Wassertank, dass die Lusoria Regina (2006) ca 80% mehr Antriebskraft erfordert als die Victoria (2008). Auch am Nachbau erfordert die Regina durchgängig einen stärkeren Wind als die Victoria, um eine bestimmte Geschwindigkeit über Grund zu erreichen. \n",
    "\n",
    "Im Vergleich der Victoria und der Lusoria Rhenana (2011 und 2012) ergeben die Tests im Tank, dass die Victoria eine geringere Kraft erfordert. Am Nachbau hingegen unterscheiden sich diese beiden Schiffe kaum."
   ]
  },
  {
   "cell_type": "markdown",
   "metadata": {},
   "source": [
    "## Abspeichern der Ergebnisse\n",
    "Jetzt speichern wir die Polardiagramme jeweils als Datei ab."
   ]
  },
  {
   "cell_type": "code",
   "execution_count": null,
   "metadata": {},
   "outputs": [],
   "source": [
    "for p, year in zip([p06, p08, p11, p12], ['2006', '2008', '2011', '2012']):\n",
    "    p.mean()['BSP'].to_csv(f'../polar_diagrams/TWA_{year}.dat', float_format='%4.2f')\n",
    "\n",
    "for p, year in zip([p06corr, p08corr, p11corr, p12corr], ['2006', '2008', '2011', '2012']):\n",
    "    p.mean()['BSP'].to_csv(f'../polar_diagrams/TWAcorr_{year}.dat', float_format='%4.2f')"
   ]
  },
  {
   "cell_type": "code",
   "execution_count": null,
   "metadata": {},
   "outputs": [],
   "source": []
  }
 ],
 "metadata": {
  "hide_input": false,
  "kernelspec": {
   "display_name": "Python [conda env:NX2]",
   "language": "python",
   "name": "conda-env-NX2-py"
  },
  "language_info": {
   "codemirror_mode": {
    "name": "ipython",
    "version": 3
   },
   "file_extension": ".py",
   "mimetype": "text/x-python",
   "name": "python",
   "nbconvert_exporter": "python",
   "pygments_lexer": "ipython3",
   "version": "3.8.3"
  }
 },
 "nbformat": 4,
 "nbformat_minor": 1
}
